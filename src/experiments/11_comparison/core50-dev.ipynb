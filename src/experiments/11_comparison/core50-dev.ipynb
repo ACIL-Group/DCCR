{
 "cells": [
  {
   "cell_type": "code",
   "execution_count": 6,
   "metadata": {},
   "outputs": [
    {
     "name": "stdout",
     "output_type": "stream",
     "text": [
      "Downloading http://bias.csr.unibo.it/maltoni/download/core50/core50_128x128.zip...\n",
      "Downloading http://bias.csr.unibo.it/maltoni/download/core50/core50_128x128.zip to C:\\Users\\Sasha\\.avalanche\\data\\core50\\core50_128x128.zip\n"
     ]
    },
    {
     "data": {
      "application/vnd.jupyter.widget-view+json": {
       "model_id": "5fdc29d0f15443f584281702c5cdd132",
       "version_major": 2,
       "version_minor": 0
      },
      "text/plain": [
       "  0%|          | 0/5892103007 [00:00<?, ?it/s]"
      ]
     },
     "metadata": {},
     "output_type": "display_data"
    },
    {
     "name": "stdout",
     "output_type": "stream",
     "text": [
      "Extracting core50_128x128.zip...\n",
      "Extraction completed!\n",
      "Downloading https://vlomonaco.github.io/core50/data/batches_filelists.zip...\n",
      "Downloading https://vlomonaco.github.io/core50/data/batches_filelists.zip to C:\\Users\\Sasha\\.avalanche\\data\\core50\\batches_filelists.zip\n"
     ]
    },
    {
     "data": {
      "application/vnd.jupyter.widget-view+json": {
       "model_id": "bb14a8f161f5466498fa53d7ac4d2375",
       "version_major": 2,
       "version_minor": 0
      },
      "text/plain": [
       "  0%|          | 0/45418248 [00:00<?, ?it/s]"
      ]
     },
     "metadata": {},
     "output_type": "display_data"
    },
    {
     "name": "stdout",
     "output_type": "stream",
     "text": [
      "Extracting batches_filelists.zip...\n",
      "Extraction completed!\n",
      "Downloading https://vlomonaco.github.io/core50/data/batches_filelists_NICv2.zip...\n",
      "Downloading https://vlomonaco.github.io/core50/data/batches_filelists_NICv2.zip to C:\\Users\\Sasha\\.avalanche\\data\\core50\\batches_filelists_NICv2.zip\n"
     ]
    },
    {
     "data": {
      "application/vnd.jupyter.widget-view+json": {
       "model_id": "6d619051f7514da4b1aebf2a0415ce48",
       "version_major": 2,
       "version_minor": 0
      },
      "text/plain": [
       "  0%|          | 0/13462303 [00:00<?, ?it/s]"
      ]
     },
     "metadata": {},
     "output_type": "display_data"
    },
    {
     "name": "stdout",
     "output_type": "stream",
     "text": [
      "Extracting batches_filelists_NICv2.zip...\n",
      "Extraction completed!\n",
      "Downloading https://vlomonaco.github.io/core50/data/paths.pkl...\n",
      "Downloading https://vlomonaco.github.io/core50/data/paths.pkl to C:\\Users\\Sasha\\.avalanche\\data\\core50\\paths.pkl\n"
     ]
    },
    {
     "data": {
      "application/vnd.jupyter.widget-view+json": {
       "model_id": "eb61146eba814a3c983391bffc955550",
       "version_major": 2,
       "version_minor": 0
      },
      "text/plain": [
       "  0%|          | 0/5275590 [00:00<?, ?it/s]"
      ]
     },
     "metadata": {},
     "output_type": "display_data"
    },
    {
     "name": "stdout",
     "output_type": "stream",
     "text": [
      "Downloading https://vlomonaco.github.io/core50/data/LUP.pkl...\n",
      "Downloading https://vlomonaco.github.io/core50/data/LUP.pkl to C:\\Users\\Sasha\\.avalanche\\data\\core50\\LUP.pkl\n"
     ]
    },
    {
     "data": {
      "application/vnd.jupyter.widget-view+json": {
       "model_id": "9b8bf0dc11bd4fbdbc456ec8d4a31790",
       "version_major": 2,
       "version_minor": 0
      },
      "text/plain": [
       "  0%|          | 0/55523548 [00:00<?, ?it/s]"
      ]
     },
     "metadata": {},
     "output_type": "display_data"
    },
    {
     "name": "stdout",
     "output_type": "stream",
     "text": [
      "Downloading https://vlomonaco.github.io/core50/data/labels.pkl...\n",
      "Downloading https://vlomonaco.github.io/core50/data/labels.pkl to C:\\Users\\Sasha\\.avalanche\\data\\core50\\labels.pkl\n"
     ]
    },
    {
     "data": {
      "application/vnd.jupyter.widget-view+json": {
       "model_id": "14325fa52ed147669094a4b0dbe38d84",
       "version_major": 2,
       "version_minor": 0
      },
      "text/plain": [
       "  0%|          | 0/26461948 [00:00<?, ?it/s]"
      ]
     },
     "metadata": {},
     "output_type": "display_data"
    },
    {
     "name": "stdout",
     "output_type": "stream",
     "text": [
      "Downloading https://vlomonaco.github.io/core50/data/labels2names.pkl...\n",
      "Downloading https://vlomonaco.github.io/core50/data/labels2names.pkl to C:\\Users\\Sasha\\.avalanche\\data\\core50\\labels2names.pkl\n"
     ]
    },
    {
     "data": {
      "application/vnd.jupyter.widget-view+json": {
       "model_id": "4c2830a952ca47c296703d7d615507e5",
       "version_major": 2,
       "version_minor": 0
      },
      "text/plain": [
       "  0%|          | 0/30444 [00:00<?, ?it/s]"
      ]
     },
     "metadata": {},
     "output_type": "display_data"
    },
    {
     "name": "stdout",
     "output_type": "stream",
     "text": [
      "Loading labels...\n",
      "Loading LUP...\n",
      "Loading labels names...\n"
     ]
    }
   ],
   "source": [
    "from avalanche.benchmarks import CORe50\n",
    "from torchvision import transforms\n",
    "\n",
    "_mu = [0.485, 0.456, 0.406]  # imagenet normalization\n",
    "_std = [0.229, 0.224, 0.225]\n",
    "transform = transforms.Compose([\n",
    "    transforms.Resize((224, 224)),\n",
    "    transforms.ToTensor(),\n",
    "    transforms.Normalize(mean=_mu,\n",
    "                            std=_std)\n",
    "])\n",
    "\n",
    "# benchmark_instance = CORe50(scenario=\"nicv2_79\", mini=False)\n",
    "benchmark = CORe50(\n",
    "    scenario='nc',\n",
    "    train_transform=transform,\n",
    "    eval_transform=transform\n",
    ")"
   ]
  }
 ],
 "metadata": {
  "kernelspec": {
   "display_name": "avalanche",
   "language": "python",
   "name": "python3"
  },
  "language_info": {
   "codemirror_mode": {
    "name": "ipython",
    "version": 3
   },
   "file_extension": ".py",
   "mimetype": "text/x-python",
   "name": "python",
   "nbconvert_exporter": "python",
   "pygments_lexer": "ipython3",
   "version": "3.9.16"
  },
  "orig_nbformat": 4
 },
 "nbformat": 4,
 "nbformat_minor": 2
}

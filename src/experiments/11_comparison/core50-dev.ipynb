{
 "cells": [
  {
   "cell_type": "code",
   "execution_count": 6,
   "metadata": {},
   "outputs": [
    {
     "name": "stdout",
     "output_type": "stream",
     "text": [
      "Downloading http://bias.csr.unibo.it/maltoni/download/core50/core50_128x128.zip...\n",
      "Downloading http://bias.csr.unibo.it/maltoni/download/core50/core50_128x128.zip to C:\\Users\\Sasha\\.avalanche\\data\\core50\\core50_128x128.zip\n"
     ]
    },
    {
     "data": {
      "application/vnd.jupyter.widget-view+json": {
       "model_id": "5fdc29d0f15443f584281702c5cdd132",
       "version_major": 2,
       "version_minor": 0
      },
      "text/plain": [
       "  0%|          | 0/5892103007 [00:00<?, ?it/s]"
      ]
     },
     "metadata": {},
     "output_type": "display_data"
    }
   ],
   "source": [
    "from avalanche.benchmarks import CORe50\n",
    "from torchvision import transforms\n",
    "\n",
    "_mu = [0.485, 0.456, 0.406]  # imagenet normalization\n",
    "_std = [0.229, 0.224, 0.225]\n",
    "transform = transforms.Compose([\n",
    "    transforms.Resize((224, 224)),\n",
    "    transforms.ToTensor(),\n",
    "    transforms.Normalize(mean=_mu,\n",
    "                            std=_std)\n",
    "])\n",
    "\n",
    "# benchmark_instance = CORe50(scenario=\"nicv2_79\", mini=False)\n",
    "benchmark = CORe50(\n",
    "    scenario='nc',\n",
    "    train_transform=transform,\n",
    "    eval_transform=transform\n",
    ")"
   ]
  }
 ],
 "metadata": {
  "kernelspec": {
   "display_name": "avalanche",
   "language": "python",
   "name": "python3"
  },
  "language_info": {
   "codemirror_mode": {
    "name": "ipython",
    "version": 3
   },
   "file_extension": ".py",
   "mimetype": "text/x-python",
   "name": "python",
   "nbconvert_exporter": "python",
   "pygments_lexer": "ipython3",
   "version": "3.9.16"
  },
  "orig_nbformat": 4
 },
 "nbformat": 4,
 "nbformat_minor": 2
}

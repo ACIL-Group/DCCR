{
 "cells": [
  {
   "cell_type": "code",
   "execution_count": null,
   "metadata": {},
   "outputs": [],
   "source": [
    "from src.datasets.smnistp import (\n",
    "    SplitCIFAR10Preprocessed,\n",
    "    SplitCIFAR100Preprocessed,\n",
    ")"
   ]
  },
  {
   "cell_type": "code",
   "execution_count": null,
   "metadata": {},
   "outputs": [],
   "source": [
    "benchmark = SplitCIFAR10Preprocessed(\n",
    "    # n_experiences=5,\n",
    "    n_experiences=10,\n",
    "    shuffle=False,\n",
    "    replace_existing=True,\n",
    ")"
   ]
  }
 ],
 "metadata": {
  "language_info": {
   "name": "python"
  },
  "orig_nbformat": 4
 },
 "nbformat": 4,
 "nbformat_minor": 2
}

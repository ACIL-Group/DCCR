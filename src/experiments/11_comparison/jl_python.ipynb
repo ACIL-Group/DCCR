{
 "cells": [
  {
   "cell_type": "code",
   "execution_count": null,
   "metadata": {},
   "outputs": [],
   "source": [
    "import julia\n",
    "julia.install()\n",
    "\n",
    "from pathlib import Path\n",
    "# %load_ext julia.magic\n",
    "# %julia using Pkg\n",
    "# from julia import Main\n",
    "# from julia import Pkg\n",
    "\n",
    "# # Point to the top of the project relative to this script\n",
    "def projectdir(*args):\n",
    "    return str(Path.cwd().joinpath(\"..\", \"..\", \"..\", *args).resolve())\n",
    "\n",
    "# # Pkg.add(\"AdaptiveResonance\")\n",
    "# Pkg.activate(str(projectdir()))\n",
    "\n",
    "# from julia import AdaptiveResonance as ART\n",
    "# art = ART.DDVFA()"
   ]
  },
  {
   "cell_type": "code",
   "execution_count": null,
   "metadata": {},
   "outputs": [],
   "source": [
    "from sklearn import datasets\n",
    "from sklearn.model_selection import train_test_split\n",
    "\n",
    "digits = datasets.load_digits()\n",
    "# Take the first 500 data points: it's hard to see 1500 points\n",
    "X = digits.data[:500]\n",
    "y = digits.target[:500]\n",
    "\n",
    "X_train, X_test, y_train, y_test = train_test_split(X, y, test_size=0.33, random_state=42)"
   ]
  },
  {
   "cell_type": "code",
   "execution_count": null,
   "metadata": {},
   "outputs": [],
   "source": [
    "from sklearn.metrics import accuracy_score\n",
    "from julia import Main as j\n",
    "\n",
    "j.project_dir = projectdir()\n",
    "j.eval(\"using Pkg; Pkg.activate(project_dir)\")\n",
    "j.eval(\"using AdaptiveResonance\")\n",
    "j.eval(\"art = DDVFA(rho_lb=0.4, rho_ub=0.75)\")\n",
    "print(\"Loaded DDVFA\")\n",
    "\n",
    "# ART.train!(art, X, y=y)\n",
    "j.X_train = X_train.transpose()\n",
    "j.y_train = y_train\n",
    "j.X_test = X_test.transpose()\n",
    "# j.eval(\"X_train_local = Matrix{Float64}(X_train)\")\n",
    "# j.eval(\"y_train_local = Vector{Int32}(y_train)\")\n",
    "j.eval(\"art.config = DataConfig(0.0, 16.0, 64)\")\n",
    "j.eval(\"train!(art, X_train, y=y_train)\")\n",
    "y_hat = j.eval(\"classify(art, X_test)\")\n",
    "# y_hat\n",
    "\n",
    "n_weights = j.eval(\"AdaptiveResonance.get_n_weights(art)\")\n",
    "print(n_weights, X_train.shape)\n",
    "print(accuracy_score(y_test, y_hat))"
   ]
  }
 ],
 "metadata": {
  "language_info": {
   "name": "python"
  },
  "orig_nbformat": 4
 },
 "nbformat": 4,
 "nbformat_minor": 2
}

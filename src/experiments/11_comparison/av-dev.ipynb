{
 "cells": [
  {
   "cell_type": "code",
   "execution_count": 28,
   "metadata": {},
   "outputs": [],
   "source": [
    "import julia\n",
    "julia.install()"
   ]
  },
  {
   "cell_type": "code",
   "execution_count": 29,
   "metadata": {},
   "outputs": [],
   "source": [
    "from pathlib import Path\n",
    "\n",
    "# %load_ext julia.magic\n",
    "# %julia using Pkg\n",
    "# from julia import Main\n",
    "# from julia import Pkg\n",
    "\n",
    "# # Point to the top of the project relative to this script\n",
    "def projectdir(*args):\n",
    "    return str(Path.cwd().joinpath(\"..\", \"..\", \"..\", *args).resolve())\n",
    "\n",
    "# # Pkg.add(\"AdaptiveResonance\")\n",
    "# Pkg.activate(str(projectdir()))\n",
    "\n",
    "# from julia import AdaptiveResonance as ART\n",
    "# art = ART.DDVFA()"
   ]
  },
  {
   "cell_type": "code",
   "execution_count": 30,
   "metadata": {},
   "outputs": [],
   "source": [
    "from sklearn import datasets\n",
    "from sklearn.model_selection import train_test_split\n",
    "\n",
    "digits = datasets.load_digits()\n",
    "# Take the first 500 data points: it's hard to see 1500 points\n",
    "X = digits.data[:500]\n",
    "y = digits.target[:500]\n",
    "\n",
    "X_train, X_test, y_train, y_test = train_test_split(X, y, test_size=0.33, random_state=42)"
   ]
  },
  {
   "cell_type": "code",
   "execution_count": 31,
   "metadata": {},
   "outputs": [
    {
     "name": "stdout",
     "output_type": "stream",
     "text": [
      "Loaded DDVFA\n",
      "165 (335, 64)\n",
      "0.8242424242424242\n"
     ]
    }
   ],
   "source": [
    "from sklearn.metrics import accuracy_score\n",
    "from julia import Main as j\n",
    "\n",
    "j.project_dir = projectdir()\n",
    "j.eval(\"using Pkg; Pkg.activate(project_dir)\")\n",
    "j.eval(\"using AdaptiveResonance\")\n",
    "j.eval(\"art = DDVFA(rho_lb=0.4, rho_ub=0.75)\")\n",
    "print(\"Loaded DDVFA\")\n",
    "\n",
    "# ART.train!(art, X, y=y)\n",
    "j.X_train = X_train.transpose()\n",
    "j.y_train = y_train\n",
    "j.X_test = X_test.transpose()\n",
    "# j.eval(\"X_train_local = Matrix{Float64}(X_train)\")\n",
    "# j.eval(\"y_train_local = Vector{Int32}(y_train)\")\n",
    "j.eval(\"art.config = DataConfig(0.0, 16.0, 64)\")\n",
    "j.eval(\"train!(art, X_train, y=y_train)\")\n",
    "y_hat = j.eval(\"classify(art, X_test)\")\n",
    "# y_hat\n",
    "\n",
    "n_weights = j.eval(\"AdaptiveResonance.get_n_weights(art)\")\n",
    "print(n_weights, X_train.shape)\n",
    "print(accuracy_score(y_test, y_hat))"
   ]
  },
  {
   "cell_type": "code",
   "execution_count": 78,
   "metadata": {},
   "outputs": [],
   "source": [
    "from torch.utils.data import DataLoader\n",
    "from julia import Main as jl\n",
    "from sklearn.metrics import accuracy_score\n",
    "\n",
    "class DDVFAStrategy():\n",
    "    \"\"\"DDVFA Strategy\"\"\"\n",
    "\n",
    "    def __init__(self):\n",
    "        jl.project_dir = projectdir()\n",
    "        jl.eval(\"using Pkg; Pkg.activate(project_dir)\")\n",
    "        jl.eval(\"using AdaptiveResonance\")\n",
    "        jl.eval(\"art = DDVFA(rho_lb=0.4, rho_ub=0.75)\")\n",
    "        # jl.eval(\"art.config = DataConfig(0.0, 255.0, 28*28)\")\n",
    "        jl.eval(\"art.config = DataConfig(-1.0, 1.0, 28*28)\")\n",
    "\n",
    "    def train(self, experience):\n",
    "        train_dataset = experience.dataset\n",
    "        t = experience.task_label\n",
    "        train_data_loader = DataLoader(\n",
    "            train_dataset, num_workers=4, batch_size=128\n",
    "        )\n",
    "\n",
    "        # for mb in train_data_loader:\n",
    "        #     for sample, label in mb:\n",
    "        for sample in train_dataset:\n",
    "                jl.sample = sample\n",
    "                jl.label = t\n",
    "                jl.eval(\"train!(art, sample, y=label)\")\n",
    "\n",
    "    def eval(self, experience):\n",
    "        eval_dataset = experience.dataset\n",
    "        t = experience.task_label\n",
    "        eval_data_loader = DataLoader(\n",
    "            eval_dataset, num_workers=4, batch_size=128\n",
    "        )\n",
    "        print(eval_data_loader)\n",
    "\n",
    "        total = 0\n",
    "        correct = 0\n",
    "        # for mb in eval_data_loader:\n",
    "        #     for sample, label in mb:\n",
    "        # for mb in eval_data_loader:\n",
    "        for sample in eval_dataset:\n",
    "            jl.sample = sample\n",
    "            jl.label = t\n",
    "            y_hat = jl.eval(\"classify(art, sample)\")\n",
    "            total += 1\n",
    "            if y_hat == label:\n",
    "                correct += 1\n",
    "        \n",
    "        return correct/total\n",
    "        # j.samples = mb\n",
    "        # y_hats = j.eval(\"classify(art, samples)\")\n",
    "        # accuracy_score(y_test, y_hat)"
   ]
  },
  {
   "cell_type": "code",
   "execution_count": 79,
   "metadata": {},
   "outputs": [
    {
     "data": {
      "text/plain": [
       "(11272, 3)"
      ]
     },
     "execution_count": 79,
     "metadata": {},
     "output_type": "execute_result"
    }
   ],
   "source": [
    "a = benchmark.train_stream.__getitem__(1)\n",
    "import numpy as np\n",
    "np.shape(a.dataset)"
   ]
  },
  {
   "cell_type": "code",
   "execution_count": 80,
   "metadata": {},
   "outputs": [
    {
     "name": "stdout",
     "output_type": "stream",
     "text": [
      "Starting experiment...\n",
      "Start of experience  0\n"
     ]
    },
    {
     "ename": "JuliaError",
     "evalue": "Exception 'MethodError: no method matching train!(::DDVFA, ::Vector{Any}; y=0)\nClosest candidates are:\n  train!(::ART, !Matched::AbstractMatrix{T} where T<:Real; y, preprocessed) at C:\\Users\\Sasha\\.julia\\packages\\AdaptiveResonance\\ZV3k7\\src\\ART\\common.jl:21\n  train!(::DDVFA, !Matched::AbstractVector{T} where T<:Real; y, preprocessed) at C:\\Users\\Sasha\\.julia\\packages\\AdaptiveResonance\\ZV3k7\\src\\ART\\distributed\\modules\\DDVFA.jl:265' occurred while calling julia code:\ntrain!(art, sample, y=label)",
     "output_type": "error",
     "traceback": [
      "\u001b[1;31m---------------------------------------------------------------------------\u001b[0m",
      "\u001b[1;31mJuliaError\u001b[0m                                Traceback (most recent call last)",
      "Cell \u001b[1;32mIn[80], line 18\u001b[0m\n\u001b[0;32m     15\u001b[0m     \u001b[39mprint\u001b[39m(\u001b[39m\"\u001b[39m\u001b[39mStart of experience \u001b[39m\u001b[39m\"\u001b[39m, experience\u001b[39m.\u001b[39mcurrent_experience)\n\u001b[0;32m     17\u001b[0m     \u001b[39m# print(experience.dataset)\u001b[39;00m\n\u001b[1;32m---> 18\u001b[0m     cl_strategy\u001b[39m.\u001b[39;49mtrain(experience)\n\u001b[0;32m     19\u001b[0m     \u001b[39mprint\u001b[39m(\u001b[39m'\u001b[39m\u001b[39mTraining completed\u001b[39m\u001b[39m'\u001b[39m)\n\u001b[0;32m     21\u001b[0m \u001b[39m#     print('Computing accuracy on the current test set')\u001b[39;00m\n\u001b[0;32m     22\u001b[0m \u001b[39m#     cl_strategy.eval(benchmark.test_stream[exp_id])\u001b[39;00m\n",
      "Cell \u001b[1;32mIn[78], line 28\u001b[0m, in \u001b[0;36mDDVFAStrategy.train\u001b[1;34m(self, experience)\u001b[0m\n\u001b[0;32m     26\u001b[0m jl\u001b[39m.\u001b[39msample \u001b[39m=\u001b[39m sample\n\u001b[0;32m     27\u001b[0m jl\u001b[39m.\u001b[39mlabel \u001b[39m=\u001b[39m t\n\u001b[1;32m---> 28\u001b[0m jl\u001b[39m.\u001b[39;49meval(\u001b[39m\"\u001b[39;49m\u001b[39mtrain!(art, sample, y=label)\u001b[39;49m\u001b[39m\"\u001b[39;49m)\n",
      "File \u001b[1;32mc:\\Users\\Sasha\\Anaconda3\\envs\\avalanche\\lib\\site-packages\\julia\\core.py:627\u001b[0m, in \u001b[0;36mJulia.eval\u001b[1;34m(self, src)\u001b[0m\n\u001b[0;32m    625\u001b[0m \u001b[39mif\u001b[39;00m src \u001b[39mis\u001b[39;00m \u001b[39mNone\u001b[39;00m:\n\u001b[0;32m    626\u001b[0m     \u001b[39mreturn\u001b[39;00m \u001b[39mNone\u001b[39;00m\n\u001b[1;32m--> 627\u001b[0m ans \u001b[39m=\u001b[39m \u001b[39mself\u001b[39;49m\u001b[39m.\u001b[39;49m_call(src)\n\u001b[0;32m    628\u001b[0m \u001b[39mif\u001b[39;00m \u001b[39mnot\u001b[39;00m ans:\n\u001b[0;32m    629\u001b[0m     \u001b[39mreturn\u001b[39;00m \u001b[39mNone\u001b[39;00m\n",
      "File \u001b[1;32mc:\\Users\\Sasha\\Anaconda3\\envs\\avalanche\\lib\\site-packages\\julia\\core.py:555\u001b[0m, in \u001b[0;36mJulia._call\u001b[1;34m(self, src)\u001b[0m\n\u001b[0;32m    553\u001b[0m \u001b[39m# logger.debug(\"_call(%s)\", src)\u001b[39;00m\n\u001b[0;32m    554\u001b[0m ans \u001b[39m=\u001b[39m \u001b[39mself\u001b[39m\u001b[39m.\u001b[39mapi\u001b[39m.\u001b[39mjl_eval_string(src\u001b[39m.\u001b[39mencode(\u001b[39m'\u001b[39m\u001b[39mutf-8\u001b[39m\u001b[39m'\u001b[39m))\n\u001b[1;32m--> 555\u001b[0m \u001b[39mself\u001b[39;49m\u001b[39m.\u001b[39;49mcheck_exception(src)\n\u001b[0;32m    557\u001b[0m \u001b[39mreturn\u001b[39;00m ans\n",
      "File \u001b[1;32mc:\\Users\\Sasha\\Anaconda3\\envs\\avalanche\\lib\\site-packages\\julia\\core.py:609\u001b[0m, in \u001b[0;36mJulia.check_exception\u001b[1;34m(self, src)\u001b[0m\n\u001b[0;32m    607\u001b[0m \u001b[39melse\u001b[39;00m:\n\u001b[0;32m    608\u001b[0m     exception \u001b[39m=\u001b[39m sprint(showerror, \u001b[39mself\u001b[39m\u001b[39m.\u001b[39m_as_pyobj(res))\n\u001b[1;32m--> 609\u001b[0m \u001b[39mraise\u001b[39;00m JuliaError(\u001b[39mu\u001b[39m\u001b[39m'\u001b[39m\u001b[39mException \u001b[39m\u001b[39m\\'\u001b[39;00m\u001b[39m{}\u001b[39;00m\u001b[39m\\'\u001b[39;00m\u001b[39m occurred while calling julia code:\u001b[39m\u001b[39m\\n\u001b[39;00m\u001b[39m{}\u001b[39;00m\u001b[39m'\u001b[39m\n\u001b[0;32m    610\u001b[0m                  \u001b[39m.\u001b[39mformat(exception, src))\n",
      "\u001b[1;31mJuliaError\u001b[0m: Exception 'MethodError: no method matching train!(::DDVFA, ::Vector{Any}; y=0)\nClosest candidates are:\n  train!(::ART, !Matched::AbstractMatrix{T} where T<:Real; y, preprocessed) at C:\\Users\\Sasha\\.julia\\packages\\AdaptiveResonance\\ZV3k7\\src\\ART\\common.jl:21\n  train!(::DDVFA, !Matched::AbstractVector{T} where T<:Real; y, preprocessed) at C:\\Users\\Sasha\\.julia\\packages\\AdaptiveResonance\\ZV3k7\\src\\ART\\distributed\\modules\\DDVFA.jl:265' occurred while calling julia code:\ntrain!(art, sample, y=label)"
     ]
    }
   ],
   "source": [
    "from avalanche.benchmarks import SplitMNIST\n",
    "from avalanche.benchmarks.classic import SplitCIFAR10\n",
    "\n",
    "# Benchmark creation\n",
    "benchmark = SplitMNIST(n_experiences=5)\n",
    "# benchmark = SplitCIFAR10(n_experiences=5, return_task_id=True)\n",
    "\n",
    "# Create the Strategy Instance\n",
    "cl_strategy = DDVFAStrategy()\n",
    "\n",
    "# Training Loop\n",
    "print('Starting experiment...')\n",
    "\n",
    "for exp_id, experience in enumerate(benchmark.train_stream):\n",
    "    print(\"Start of experience \", experience.current_experience)\n",
    "\n",
    "    # print(experience.dataset)\n",
    "    cl_strategy.train(experience)\n",
    "    print('Training completed')\n",
    "\n",
    "#     print('Computing accuracy on the current test set')\n",
    "#     cl_strategy.eval(benchmark.test_stream[exp_id])"
   ]
  },
  {
   "cell_type": "code",
   "execution_count": null,
   "metadata": {},
   "outputs": [],
   "source": [
    "\"\"\"\n",
    "This example trains on Split CIFAR10 with Naive strategy.\n",
    "In this example each experience has a different task label.\n",
    "We use a multi-head model with a separate classifier for each task.\n",
    "\"\"\"\n",
    "\n",
    "import argparse\n",
    "import torch\n",
    "from torch.nn import CrossEntropyLoss\n",
    "from torch.optim import Adam\n",
    "\n",
    "from avalanche.benchmarks.classic import SplitCIFAR10\n",
    "from avalanche.models import SimpleMLP, as_multitask\n",
    "from avalanche.training.supervised import Naive\n",
    "\n",
    "\n",
    "def main(args):\n",
    "\n",
    "    # model\n",
    "    model = SimpleMLP(input_size=32 * 32 * 3, num_classes=10)\n",
    "    model = as_multitask(model, \"classifier\")\n",
    "\n",
    "    # CL Benchmark Creation\n",
    "    benchmark = SplitCIFAR10(n_experiences=5, return_task_id=True)\n",
    "    train_stream = benchmark.train_stream\n",
    "    test_stream = benchmark.test_stream\n",
    "\n",
    "    # Prepare for training & testing\n",
    "    optimizer = Adam(model.parameters(), lr=0.01)\n",
    "    criterion = CrossEntropyLoss()\n",
    "\n",
    "    # Choose a CL strategy\n",
    "    strategy = Naive(\n",
    "        model=model,\n",
    "        optimizer=optimizer,\n",
    "        criterion=criterion,\n",
    "        train_mb_size=128,\n",
    "        train_epochs=3,\n",
    "        eval_mb_size=128,\n",
    "        device=device,\n",
    "    )\n",
    "\n",
    "    # train and test loop\n",
    "    for train_task in train_stream:\n",
    "        strategy.train(train_task, num_workers=0)\n",
    "        strategy.eval(test_stream)\n",
    "\n",
    "\n",
    "if __name__ == \"__main__\":\n",
    "    parser = argparse.ArgumentParser()\n",
    "    parser.add_argument(\n",
    "        \"--cuda\",\n",
    "        type=int,\n",
    "        default=0,\n",
    "        help=\"Select zero-indexed cuda device. -1 to use CPU.\",\n",
    "    )\n",
    "    args = parser.parse_args()\n",
    "    main(args)\n"
   ]
  },
  {
   "cell_type": "code",
   "execution_count": 10,
   "metadata": {},
   "outputs": [
    {
     "ename": "AttributeError",
     "evalue": "'list' object has no attribute 'targets_task_labels'",
     "output_type": "error",
     "traceback": [
      "\u001b[1;31m---------------------------------------------------------------------------\u001b[0m",
      "\u001b[1;31mAttributeError\u001b[0m                            Traceback (most recent call last)",
      "Cell \u001b[1;32mIn[10], line 6\u001b[0m\n\u001b[0;32m      3\u001b[0m \u001b[39mfrom\u001b[39;00m \u001b[39mavalanche\u001b[39;00m\u001b[39m.\u001b[39;00m\u001b[39mbenchmarks\u001b[39;00m\u001b[39m.\u001b[39;00m\u001b[39mutils\u001b[39;00m\u001b[39m.\u001b[39;00m\u001b[39mdata_loader\u001b[39;00m \u001b[39mimport\u001b[39;00m TaskBalancedDataLoader\n\u001b[0;32m      4\u001b[0m benchmark \u001b[39m=\u001b[39m SplitMNIST(\u001b[39m5\u001b[39m, return_task_id\u001b[39m=\u001b[39m\u001b[39mTrue\u001b[39;00m)\n\u001b[1;32m----> 6\u001b[0m dl \u001b[39m=\u001b[39m TaskBalancedDataLoader([exp\u001b[39m.\u001b[39;49mdataset \u001b[39mfor\u001b[39;49;00m exp \u001b[39min\u001b[39;49;00m benchmark\u001b[39m.\u001b[39;49mtrain_stream], batch_size\u001b[39m=\u001b[39;49m\u001b[39m4\u001b[39;49m)\n\u001b[0;32m      7\u001b[0m \u001b[39mfor\u001b[39;00m x, y, t \u001b[39min\u001b[39;00m dl:\n\u001b[0;32m      8\u001b[0m     \u001b[39mprint\u001b[39m(t\u001b[39m.\u001b[39mtolist())\n",
      "File \u001b[1;32mc:\\Users\\Sasha\\Anaconda3\\envs\\avalanche\\lib\\site-packages\\avalanche\\benchmarks\\utils\\data_loader.py:89\u001b[0m, in \u001b[0;36mTaskBalancedDataLoader.__init__\u001b[1;34m(self, data, oversample_small_tasks, **kwargs)\u001b[0m\n\u001b[0;32m     87\u001b[0m \u001b[39m# split data by task.\u001b[39;00m\n\u001b[0;32m     88\u001b[0m task_datasets \u001b[39m=\u001b[39m []\n\u001b[1;32m---> 89\u001b[0m \u001b[39mfor\u001b[39;00m task_label \u001b[39min\u001b[39;00m \u001b[39mself\u001b[39;49m\u001b[39m.\u001b[39;49mdata\u001b[39m.\u001b[39;49mtargets_task_labels\u001b[39m.\u001b[39muniques:\n\u001b[0;32m     90\u001b[0m     tidxs \u001b[39m=\u001b[39m \u001b[39mself\u001b[39m\u001b[39m.\u001b[39mdata\u001b[39m.\u001b[39mtargets_task_labels\u001b[39m.\u001b[39mval_to_idx[task_label]\n\u001b[0;32m     91\u001b[0m     tdata \u001b[39m=\u001b[39m \u001b[39mself\u001b[39m\u001b[39m.\u001b[39mdata\u001b[39m.\u001b[39msubset(tidxs)\n",
      "\u001b[1;31mAttributeError\u001b[0m: 'list' object has no attribute 'targets_task_labels'"
     ]
    }
   ],
   "source": [
    "from avalanche.benchmarks import SplitMNIST\n",
    "# from avalanche.benchmarks.utils.data_loader import GroupBalancedDataLoader\n",
    "from avalanche.benchmarks.utils.data_loader import TaskBalancedDataLoader\n",
    "benchmark = SplitMNIST(5, return_task_id=True)\n",
    "\n",
    "dl = TaskBalancedDataLoader([exp.dataset for exp in benchmark.train_stream], batch_size=4)\n",
    "for x, y, t in dl:\n",
    "    print(t.tolist())\n",
    "    break"
   ]
  }
 ],
 "metadata": {
  "kernelspec": {
   "display_name": "avalanche",
   "language": "python",
   "name": "python3"
  },
  "language_info": {
   "codemirror_mode": {
    "name": "ipython",
    "version": 3
   },
   "file_extension": ".py",
   "mimetype": "text/x-python",
   "name": "python",
   "nbconvert_exporter": "python",
   "pygments_lexer": "ipython3",
   "version": "3.9.16"
  },
  "orig_nbformat": 4
 },
 "nbformat": 4,
 "nbformat_minor": 2
}

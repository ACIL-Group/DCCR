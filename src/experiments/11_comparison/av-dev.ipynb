{
 "cells": [
  {
   "cell_type": "code",
   "execution_count": 1,
   "metadata": {},
   "outputs": [],
   "source": [
    "import julia\n",
    "julia.install()\n",
    "\n",
    "from pathlib import Path\n",
    "\n",
    "# # Point to the top of the project relative to this script\n",
    "def projectdir(*args):\n",
    "    return str(Path.cwd().joinpath(\"..\", \"..\", \"..\", *args).resolve())\n",
    "\n",
    "def print_allocated_memory():\n",
    "   print(\"{:.2f} GB\".format(torch.cuda.memory_allocated() / 1024 ** 3))"
   ]
  },
  {
   "cell_type": "code",
   "execution_count": 2,
   "metadata": {},
   "outputs": [
    {
     "name": "stderr",
     "output_type": "stream",
     "text": [
      "100%|██████████| 235/235 [00:22<00:00, 10.51it/s]\n"
     ]
    },
    {
     "name": "stdout",
     "output_type": "stream",
     "text": [
      "> \u001b[1;32mc:\\users\\sasha\\repos\\github\\dccr\\src\\experiments\\11_comparison\\src\\smnistp.py\u001b[0m(132)\u001b[0;36mSplitMNISTPreprocessed\u001b[1;34m()\u001b[0m\n",
      "\u001b[1;32m    131 \u001b[1;33m    \u001b[1;31m# Use the training statistics for transforming the test dataset\u001b[0m\u001b[1;33m\u001b[0m\u001b[1;33m\u001b[0m\u001b[0m\n",
      "\u001b[0m\u001b[1;32m--> 132 \u001b[1;33m    \u001b[0mfeatures_test\u001b[0m \u001b[1;33m=\u001b[0m \u001b[0mfe\u001b[0m\u001b[1;33m.\u001b[0m\u001b[0mprocess\u001b[0m\u001b[1;33m(\u001b[0m\u001b[0mmnist_test\u001b[0m\u001b[1;33m)\u001b[0m\u001b[1;33m\u001b[0m\u001b[1;33m\u001b[0m\u001b[0m\n",
      "\u001b[0m\u001b[1;32m    133 \u001b[1;33m    \u001b[0mmnist_test\u001b[0m\u001b[1;33m.\u001b[0m\u001b[0mdata\u001b[0m \u001b[1;33m=\u001b[0m \u001b[0mfeatures_test\u001b[0m\u001b[1;33m\u001b[0m\u001b[1;33m\u001b[0m\u001b[0m\n",
      "\u001b[0m\n",
      "tensor([[0.4887, 0.3541, 0.3955,  ..., 0.5188, 0.4986, 0.2550],\n",
      "        [0.3667, 0.2150, 0.1747,  ..., 0.3803, 0.2613, 0.4864],\n",
      "        [0.9975, 0.6258, 0.0326,  ..., 0.0934, 0.4712, 0.3824],\n",
      "        ...,\n",
      "        [0.2132, 0.1405, 0.1086,  ..., 0.9911, 0.8104, 0.2462],\n",
      "        [0.1339, 0.0425, 0.0904,  ..., 0.2756, 0.4244, 0.4345],\n",
      "        [0.1198, 0.0799, 0.0699,  ..., 0.0379, 0.0281, 0.0622]])\n",
      "torch.Size([60000, 49])\n"
     ]
    }
   ],
   "source": [
    "from src.smnistp import SplitMNISTPreprocessed\n",
    "\n",
    "benchmark = SplitMNISTPreprocessed(\n",
    "    n_experiences=5,\n",
    ")"
   ]
  },
  {
   "cell_type": "code",
   "execution_count": 3,
   "metadata": {},
   "outputs": [
    {
     "name": "stdout",
     "output_type": "stream",
     "text": [
      "Starting experiment...\n",
      "Start of experience  0\n",
      "12080\n"
     ]
    },
    {
     "name": "stderr",
     "output_type": "stream",
     "text": [
      "  0%|          | 0/48 [00:00<?, ?it/s]\n"
     ]
    },
    {
     "ename": "JuliaError",
     "evalue": "Exception 'MethodError: no method matching train!(::DDVFA, ::Array{Float32, 3}; y=[9, 3, 3, 3, 9, 9, 3, 3, 9, 9  …  9, 9, 9, 3, 9, 9, 3, 9, 9, 3])\nClosest candidates are:\n  train!(::ART, !Matched::AbstractMatrix{T} where T<:Real; y, preprocessed) at C:\\Users\\Sasha\\.julia\\packages\\AdaptiveResonance\\ZV3k7\\src\\ART\\common.jl:21\n  train!(::DDVFA, !Matched::AbstractVector{T} where T<:Real; y, preprocessed) at C:\\Users\\Sasha\\.julia\\packages\\AdaptiveResonance\\ZV3k7\\src\\ART\\distributed\\modules\\DDVFA.jl:265' occurred while calling julia code:\ntrain!(art, features, y=labels)",
     "output_type": "error",
     "traceback": [
      "\u001b[1;31m---------------------------------------------------------------------------\u001b[0m",
      "\u001b[1;31mJuliaError\u001b[0m                                Traceback (most recent call last)",
      "Cell \u001b[1;32mIn[3], line 25\u001b[0m\n\u001b[0;32m     22\u001b[0m \u001b[39mfor\u001b[39;00m exp_id, experience \u001b[39min\u001b[39;00m \u001b[39menumerate\u001b[39m(benchmark\u001b[39m.\u001b[39mtrain_stream):\n\u001b[0;32m     23\u001b[0m     \u001b[39mprint\u001b[39m(\u001b[39m\"\u001b[39m\u001b[39mStart of experience \u001b[39m\u001b[39m\"\u001b[39m, experience\u001b[39m.\u001b[39mcurrent_experience)\n\u001b[1;32m---> 25\u001b[0m     cl_strategy\u001b[39m.\u001b[39;49mtrain(experience)\n\u001b[0;32m     26\u001b[0m     \u001b[39mprint\u001b[39m(\u001b[39m'\u001b[39m\u001b[39mTraining completed\u001b[39m\u001b[39m'\u001b[39m)\n\u001b[0;32m     28\u001b[0m     \u001b[39mprint\u001b[39m(\u001b[39m'\u001b[39m\u001b[39mComputing accuracy on the current test set\u001b[39m\u001b[39m'\u001b[39m)\n",
      "File \u001b[1;32mc:\\Users\\Sasha\\Repos\\github\\DCCR\\src\\experiments\\11_comparison\\src\\ddvfa.py:92\u001b[0m, in \u001b[0;36mDDVFAStrategy.train\u001b[1;34m(self, experience)\u001b[0m\n\u001b[0;32m     90\u001b[0m jl\u001b[39m.\u001b[39mlabels \u001b[39m=\u001b[39m labels\u001b[39m.\u001b[39mnumpy()\n\u001b[0;32m     91\u001b[0m \u001b[39m# ipdb.set_trace()\u001b[39;00m\n\u001b[1;32m---> 92\u001b[0m jl\u001b[39m.\u001b[39;49meval(\u001b[39m\"\u001b[39;49m\u001b[39mtrain!(art, features, y=labels)\u001b[39;49m\u001b[39m\"\u001b[39;49m)\n",
      "File \u001b[1;32mc:\\Users\\Sasha\\Anaconda3\\envs\\avalanche\\lib\\site-packages\\julia\\core.py:627\u001b[0m, in \u001b[0;36mJulia.eval\u001b[1;34m(self, src)\u001b[0m\n\u001b[0;32m    625\u001b[0m \u001b[39mif\u001b[39;00m src \u001b[39mis\u001b[39;00m \u001b[39mNone\u001b[39;00m:\n\u001b[0;32m    626\u001b[0m     \u001b[39mreturn\u001b[39;00m \u001b[39mNone\u001b[39;00m\n\u001b[1;32m--> 627\u001b[0m ans \u001b[39m=\u001b[39m \u001b[39mself\u001b[39;49m\u001b[39m.\u001b[39;49m_call(src)\n\u001b[0;32m    628\u001b[0m \u001b[39mif\u001b[39;00m \u001b[39mnot\u001b[39;00m ans:\n\u001b[0;32m    629\u001b[0m     \u001b[39mreturn\u001b[39;00m \u001b[39mNone\u001b[39;00m\n",
      "File \u001b[1;32mc:\\Users\\Sasha\\Anaconda3\\envs\\avalanche\\lib\\site-packages\\julia\\core.py:555\u001b[0m, in \u001b[0;36mJulia._call\u001b[1;34m(self, src)\u001b[0m\n\u001b[0;32m    553\u001b[0m \u001b[39m# logger.debug(\"_call(%s)\", src)\u001b[39;00m\n\u001b[0;32m    554\u001b[0m ans \u001b[39m=\u001b[39m \u001b[39mself\u001b[39m\u001b[39m.\u001b[39mapi\u001b[39m.\u001b[39mjl_eval_string(src\u001b[39m.\u001b[39mencode(\u001b[39m'\u001b[39m\u001b[39mutf-8\u001b[39m\u001b[39m'\u001b[39m))\n\u001b[1;32m--> 555\u001b[0m \u001b[39mself\u001b[39;49m\u001b[39m.\u001b[39;49mcheck_exception(src)\n\u001b[0;32m    557\u001b[0m \u001b[39mreturn\u001b[39;00m ans\n",
      "File \u001b[1;32mc:\\Users\\Sasha\\Anaconda3\\envs\\avalanche\\lib\\site-packages\\julia\\core.py:609\u001b[0m, in \u001b[0;36mJulia.check_exception\u001b[1;34m(self, src)\u001b[0m\n\u001b[0;32m    607\u001b[0m \u001b[39melse\u001b[39;00m:\n\u001b[0;32m    608\u001b[0m     exception \u001b[39m=\u001b[39m sprint(showerror, \u001b[39mself\u001b[39m\u001b[39m.\u001b[39m_as_pyobj(res))\n\u001b[1;32m--> 609\u001b[0m \u001b[39mraise\u001b[39;00m JuliaError(\u001b[39mu\u001b[39m\u001b[39m'\u001b[39m\u001b[39mException \u001b[39m\u001b[39m\\'\u001b[39;00m\u001b[39m{}\u001b[39;00m\u001b[39m\\'\u001b[39;00m\u001b[39m occurred while calling julia code:\u001b[39m\u001b[39m\\n\u001b[39;00m\u001b[39m{}\u001b[39;00m\u001b[39m'\u001b[39m\n\u001b[0;32m    610\u001b[0m                  \u001b[39m.\u001b[39mformat(exception, src))\n",
      "\u001b[1;31mJuliaError\u001b[0m: Exception 'MethodError: no method matching train!(::DDVFA, ::Array{Float32, 3}; y=[9, 3, 3, 3, 9, 9, 3, 3, 9, 9  …  9, 9, 9, 3, 9, 9, 3, 9, 9, 3])\nClosest candidates are:\n  train!(::ART, !Matched::AbstractMatrix{T} where T<:Real; y, preprocessed) at C:\\Users\\Sasha\\.julia\\packages\\AdaptiveResonance\\ZV3k7\\src\\ART\\common.jl:21\n  train!(::DDVFA, !Matched::AbstractVector{T} where T<:Real; y, preprocessed) at C:\\Users\\Sasha\\.julia\\packages\\AdaptiveResonance\\ZV3k7\\src\\ART\\distributed\\modules\\DDVFA.jl:265' occurred while calling julia code:\ntrain!(art, features, y=labels)"
     ]
    }
   ],
   "source": [
    "# from avalanche.benchmarks import SplitMNIST\n",
    "# from avalanche.benchmarks.classic import SplitCIFAR10\n",
    "\n",
    "# Benchmark creation\n",
    "# benchmark = SplitMNIST(\n",
    "#     n_experiences=5,\n",
    "#     # n_experiences=2,\n",
    "#     # n_experiences=10,\n",
    "#     # train_transform=trans,\n",
    "#     # eval_transform=trans,\n",
    "# )\n",
    "# benchmark = SplitCIFAR10(n_experiences=5, return_task_id=True)\n",
    "from src.ddvfa import DDVFAStrategy\n",
    "\n",
    "# Create the Strategy Instance\n",
    "cl_strategy = DDVFAStrategy(projectdir())\n",
    "\n",
    "# Training Loop\n",
    "print('Starting experiment...')\n",
    "\n",
    "results = []\n",
    "for exp_id, experience in enumerate(benchmark.train_stream):\n",
    "    print(\"Start of experience \", experience.current_experience)\n",
    "\n",
    "    cl_strategy.train(experience)\n",
    "    print('Training completed')\n",
    "\n",
    "    print('Computing accuracy on the current test set')\n",
    "    results.append(cl_strategy.eval(benchmark.test_stream[exp_id]))\n",
    "    # results.append(cl_strategy.eval(scenario.test_stream))\n"
   ]
  },
  {
   "cell_type": "code",
   "execution_count": 11,
   "metadata": {},
   "outputs": [
    {
     "name": "stdout",
     "output_type": "stream",
     "text": [
      "12080\n"
     ]
    },
    {
     "name": "stderr",
     "output_type": "stream",
     "text": [
      "  0%|          | 0/48 [00:00<?, ?it/s]"
     ]
    },
    {
     "name": "stdout",
     "output_type": "stream",
     "text": [
      "> \u001b[1;32mc:\\users\\sasha\\appdata\\local\\temp\\ipykernel_27684\\4086978925.py\u001b[0m(14)\u001b[0;36m<module>\u001b[1;34m()\u001b[0m\n",
      "\n",
      "tensor([[[0.0013, 0.0014, 0.0012,  ..., 0.0039, 0.0028, 0.0009]],\n",
      "\n",
      "        [[0.0007, 0.0006, 0.0003,  ..., 0.0016, 0.0024, 0.0012]],\n",
      "\n",
      "        [[0.0015, 0.0022, 0.0027,  ..., 0.0011, 0.0007, 0.0004]],\n",
      "\n",
      "        ...,\n",
      "\n",
      "        [[0.0017, 0.0016, 0.0006,  ..., 0.0015, 0.0004, 0.0005]],\n",
      "\n",
      "        [[0.0006, 0.0003, 0.0004,  ..., 0.0002, 0.0002, 0.0004]],\n",
      "\n",
      "        [[0.0007, 0.0010, 0.0031,  ..., 0.0038, 0.0035, 0.0028]]])\n",
      "torch.Size([256, 1, 49])\n",
      "torch.Size([256, 1, 49])\n"
     ]
    },
    {
     "name": "stderr",
     "output_type": "stream",
     "text": [
      "  0%|          | 0/48 [00:17<?, ?it/s]\n"
     ]
    }
   ],
   "source": [
    "from torch.utils.data import DataLoader\n",
    "from tqdm import tqdm\n",
    "import ipdb\n",
    "# ipdb.set_trace()\n",
    "for exp_id, experience in enumerate(benchmark.train_stream):\n",
    "    train_dataset = experience.dataset\n",
    "    train_data_loader = DataLoader(\n",
    "        dataset=train_dataset,\n",
    "        pin_memory=True,\n",
    "        # batch_size=90,\n",
    "        batch_size=256,\n",
    "    )\n",
    "    print(experience.dataset.__len__())\n",
    "    for mb in tqdm(train_data_loader):\n",
    "        data, labels, tasks = mb\n",
    "        ipdb.set_trace()\n",
    "        # jl.features = self.ext_features(data)\n",
    "        # jl.features = data.numpy().transpose()\n",
    "        # jl.labels = labels.numpy()\n",
    "        # # ipdb.set_trace()\n",
    "        # jl.eval(\"train!(art, features, y=labels)\")"
   ]
  },
  {
   "cell_type": "code",
   "execution_count": 7,
   "metadata": {},
   "outputs": [
    {
     "data": {
      "text/plain": [
       "torch.Size([1, 49])"
      ]
     },
     "execution_count": 7,
     "metadata": {},
     "output_type": "execute_result"
    }
   ],
   "source": [
    "benchmark.train_stream.__getitem__(0).dataset[0][0].shape"
   ]
  },
  {
   "cell_type": "code",
   "execution_count": 5,
   "metadata": {},
   "outputs": [
    {
     "name": "stdout",
     "output_type": "stream",
     "text": [
      "> \u001b[1;32mc:\\users\\sasha\\anaconda3\\envs\\avalanche\\lib\\site-packages\\julia\\core.py\u001b[0m(609)\u001b[0;36mcheck_exception\u001b[1;34m()\u001b[0m\n",
      "\u001b[1;32m    607 \u001b[1;33m        \u001b[1;32melse\u001b[0m\u001b[1;33m:\u001b[0m\u001b[1;33m\u001b[0m\u001b[1;33m\u001b[0m\u001b[0m\n",
      "\u001b[0m\u001b[1;32m    608 \u001b[1;33m            \u001b[0mexception\u001b[0m \u001b[1;33m=\u001b[0m \u001b[0msprint\u001b[0m\u001b[1;33m(\u001b[0m\u001b[0mshowerror\u001b[0m\u001b[1;33m,\u001b[0m \u001b[0mself\u001b[0m\u001b[1;33m.\u001b[0m\u001b[0m_as_pyobj\u001b[0m\u001b[1;33m(\u001b[0m\u001b[0mres\u001b[0m\u001b[1;33m)\u001b[0m\u001b[1;33m)\u001b[0m\u001b[1;33m\u001b[0m\u001b[1;33m\u001b[0m\u001b[0m\n",
      "\u001b[0m\u001b[1;32m--> 609 \u001b[1;33m        raise JuliaError(u'Exception \\'{}\\' occurred while calling julia code:\\n{}'\n",
      "\u001b[0m\u001b[1;32m    610 \u001b[1;33m                         .format(exception, src))\n",
      "\u001b[0m\u001b[1;32m    611 \u001b[1;33m\u001b[1;33m\u001b[0m\u001b[0m\n",
      "\u001b[0m\n",
      "*** NameError: name 'jl' is not defined\n",
      "> \u001b[1;32mc:\\users\\sasha\\anaconda3\\envs\\avalanche\\lib\\site-packages\\julia\\core.py\u001b[0m(555)\u001b[0;36m_call\u001b[1;34m()\u001b[0m\n",
      "\u001b[1;32m    553 \u001b[1;33m        \u001b[1;31m# logger.debug(\"_call(%s)\", src)\u001b[0m\u001b[1;33m\u001b[0m\u001b[1;33m\u001b[0m\u001b[0m\n",
      "\u001b[0m\u001b[1;32m    554 \u001b[1;33m        \u001b[0mans\u001b[0m \u001b[1;33m=\u001b[0m \u001b[0mself\u001b[0m\u001b[1;33m.\u001b[0m\u001b[0mapi\u001b[0m\u001b[1;33m.\u001b[0m\u001b[0mjl_eval_string\u001b[0m\u001b[1;33m(\u001b[0m\u001b[0msrc\u001b[0m\u001b[1;33m.\u001b[0m\u001b[0mencode\u001b[0m\u001b[1;33m(\u001b[0m\u001b[1;34m'utf-8'\u001b[0m\u001b[1;33m)\u001b[0m\u001b[1;33m)\u001b[0m\u001b[1;33m\u001b[0m\u001b[1;33m\u001b[0m\u001b[0m\n",
      "\u001b[0m\u001b[1;32m--> 555 \u001b[1;33m        \u001b[0mself\u001b[0m\u001b[1;33m.\u001b[0m\u001b[0mcheck_exception\u001b[0m\u001b[1;33m(\u001b[0m\u001b[0msrc\u001b[0m\u001b[1;33m)\u001b[0m\u001b[1;33m\u001b[0m\u001b[1;33m\u001b[0m\u001b[0m\n",
      "\u001b[0m\u001b[1;32m    556 \u001b[1;33m\u001b[1;33m\u001b[0m\u001b[0m\n",
      "\u001b[0m\u001b[1;32m    557 \u001b[1;33m        \u001b[1;32mreturn\u001b[0m \u001b[0mans\u001b[0m\u001b[1;33m\u001b[0m\u001b[1;33m\u001b[0m\u001b[0m\n",
      "\u001b[0m\n",
      "> \u001b[1;32mc:\\users\\sasha\\anaconda3\\envs\\avalanche\\lib\\site-packages\\julia\\core.py\u001b[0m(627)\u001b[0;36meval\u001b[1;34m()\u001b[0m\n",
      "\u001b[1;32m    625 \u001b[1;33m        \u001b[1;32mif\u001b[0m \u001b[0msrc\u001b[0m \u001b[1;32mis\u001b[0m \u001b[1;32mNone\u001b[0m\u001b[1;33m:\u001b[0m\u001b[1;33m\u001b[0m\u001b[1;33m\u001b[0m\u001b[0m\n",
      "\u001b[0m\u001b[1;32m    626 \u001b[1;33m            \u001b[1;32mreturn\u001b[0m \u001b[1;32mNone\u001b[0m\u001b[1;33m\u001b[0m\u001b[1;33m\u001b[0m\u001b[0m\n",
      "\u001b[0m\u001b[1;32m--> 627 \u001b[1;33m        \u001b[0mans\u001b[0m \u001b[1;33m=\u001b[0m \u001b[0mself\u001b[0m\u001b[1;33m.\u001b[0m\u001b[0m_call\u001b[0m\u001b[1;33m(\u001b[0m\u001b[0msrc\u001b[0m\u001b[1;33m)\u001b[0m\u001b[1;33m\u001b[0m\u001b[1;33m\u001b[0m\u001b[0m\n",
      "\u001b[0m\u001b[1;32m    628 \u001b[1;33m        \u001b[1;32mif\u001b[0m \u001b[1;32mnot\u001b[0m \u001b[0mans\u001b[0m\u001b[1;33m:\u001b[0m\u001b[1;33m\u001b[0m\u001b[1;33m\u001b[0m\u001b[0m\n",
      "\u001b[0m\u001b[1;32m    629 \u001b[1;33m            \u001b[1;32mreturn\u001b[0m \u001b[1;32mNone\u001b[0m\u001b[1;33m\u001b[0m\u001b[1;33m\u001b[0m\u001b[0m\n",
      "\u001b[0m\n",
      "*** NameError: name 'jl' is not defined\n",
      "> \u001b[1;32mc:\\users\\sasha\\repos\\github\\dccr\\src\\experiments\\11_comparison\\src\\ddvfa.py\u001b[0m(92)\u001b[0;36mtrain\u001b[1;34m()\u001b[0m\n",
      "\u001b[1;32m     90 \u001b[1;33m            \u001b[0mjl\u001b[0m\u001b[1;33m.\u001b[0m\u001b[0mlabels\u001b[0m \u001b[1;33m=\u001b[0m \u001b[0mlabels\u001b[0m\u001b[1;33m.\u001b[0m\u001b[0mnumpy\u001b[0m\u001b[1;33m(\u001b[0m\u001b[1;33m)\u001b[0m\u001b[1;33m\u001b[0m\u001b[1;33m\u001b[0m\u001b[0m\n",
      "\u001b[0m\u001b[1;32m     91 \u001b[1;33m            \u001b[1;31m# ipdb.set_trace()\u001b[0m\u001b[1;33m\u001b[0m\u001b[1;33m\u001b[0m\u001b[0m\n",
      "\u001b[0m\u001b[1;32m---> 92 \u001b[1;33m            \u001b[0mjl\u001b[0m\u001b[1;33m.\u001b[0m\u001b[0meval\u001b[0m\u001b[1;33m(\u001b[0m\u001b[1;34m\"train!(art, features, y=labels)\"\u001b[0m\u001b[1;33m)\u001b[0m\u001b[1;33m\u001b[0m\u001b[1;33m\u001b[0m\u001b[0m\n",
      "\u001b[0m\u001b[1;32m     93 \u001b[1;33m\u001b[1;33m\u001b[0m\u001b[0m\n",
      "\u001b[0m\u001b[1;32m     94 \u001b[1;33m    \u001b[1;32mdef\u001b[0m \u001b[0meval\u001b[0m\u001b[1;33m(\u001b[0m\u001b[0mself\u001b[0m\u001b[1;33m,\u001b[0m \u001b[0mexperience\u001b[0m\u001b[1;33m)\u001b[0m\u001b[1;33m:\u001b[0m\u001b[1;33m\u001b[0m\u001b[1;33m\u001b[0m\u001b[0m\n",
      "\u001b[0m\n",
      "<module 'julia.Main' (<julia.core.JuliaModuleLoader object at 0x0000025391EE8820>)>\n",
      "(49, 1, 256)\n",
      "(49, 1, 256)\n"
     ]
    }
   ],
   "source": [
    "%debug"
   ]
  },
  {
   "cell_type": "code",
   "execution_count": 6,
   "metadata": {},
   "outputs": [
    {
     "data": {
      "text/plain": [
       "[1, 4]"
      ]
     },
     "execution_count": 6,
     "metadata": {},
     "output_type": "execute_result"
    }
   ],
   "source": [
    "benchmark.test_stream[1].classes_in_this_experience\n",
    "# benchmark.train_stream[1].classes_in_this_experience"
   ]
  },
  {
   "cell_type": "code",
   "execution_count": 4,
   "metadata": {},
   "outputs": [
    {
     "data": {
      "text/plain": [
       "[0.9266000859106529, 0.0]"
      ]
     },
     "execution_count": 4,
     "metadata": {},
     "output_type": "execute_result"
    }
   ],
   "source": [
    "results"
   ]
  },
  {
   "cell_type": "code",
   "execution_count": 14,
   "metadata": {},
   "outputs": [
    {
     "name": "stdout",
     "output_type": "stream",
     "text": [
      "12862\n",
      "(12862,)\n"
     ]
    }
   ],
   "source": [
    "print(jl.eval(\"AdaptiveResonance.get_n_weights(art)\"))\n",
    "print(jl.eval(\"size(art.F2)\"))"
   ]
  },
  {
   "cell_type": "code",
   "execution_count": null,
   "metadata": {},
   "outputs": [],
   "source": [
    "a = [1,1,2,3]\n",
    "b = [1,2,2,3]\n",
    "from sklearn.metrics import accuracy_score\n",
    "from statistics import mean\n",
    "\n",
    "# mean(a)\n",
    "# accuracy_score(a, b)"
   ]
  },
  {
   "cell_type": "code",
   "execution_count": null,
   "metadata": {},
   "outputs": [
    {
     "name": "stdout",
     "output_type": "stream",
     "text": [
      "1234\n"
     ]
    }
   ],
   "source": [
    "jl.eval(\"a = 1234\")\n",
    "print(jl.a)"
   ]
  }
 ],
 "metadata": {
  "kernelspec": {
   "display_name": "avalanche",
   "language": "python",
   "name": "python3"
  },
  "language_info": {
   "codemirror_mode": {
    "name": "ipython",
    "version": 3
   },
   "file_extension": ".py",
   "mimetype": "text/x-python",
   "name": "python",
   "nbconvert_exporter": "python",
   "pygments_lexer": "ipython3",
   "version": "3.9.16"
  },
  "orig_nbformat": 4
 },
 "nbformat": 4,
 "nbformat_minor": 2
}

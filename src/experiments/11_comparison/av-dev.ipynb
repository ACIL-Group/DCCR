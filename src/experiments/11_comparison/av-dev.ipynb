{
 "cells": [
  {
   "cell_type": "code",
   "execution_count": 1,
   "metadata": {},
   "outputs": [],
   "source": [
    "import julia\n",
    "julia.install()\n",
    "\n",
    "from pathlib import Path\n",
    "\n",
    "# # Point to the top of the project relative to this script\n",
    "def projectdir(*args):\n",
    "    return str(Path.cwd().joinpath(\"..\", \"..\", \"..\", *args).resolve())\n",
    "\n",
    "def print_allocated_memory():\n",
    "   print(\"{:.2f} GB\".format(torch.cuda.memory_allocated() / 1024 ** 3))"
   ]
  },
  {
   "cell_type": "code",
   "execution_count": 3,
   "metadata": {},
   "outputs": [],
   "source": [
    "from avalanche.benchmarks.datasets.external_datasets.mnist import get_mnist_dataset\n",
    "\n",
    "mnist_train, mnist_test = get_mnist_dataset(None)"
   ]
  },
  {
   "cell_type": "code",
   "execution_count": 14,
   "metadata": {},
   "outputs": [],
   "source": [
    "# mnist_train.data.shape\n",
    "import torch\n",
    "from torchvision.transforms import Normalize\n",
    "from torchvision.models import resnet50, resnet18\n",
    "from torchvision.models import ResNet50_Weights, ResNet18_Weights\n",
    "# from torchvision import models\n",
    "from torchvision.models.feature_extraction import create_feature_extractor\n",
    "\n",
    "# from sklearn.metrics import accuracy_score\n",
    "# from statistics import mean\n",
    "\n",
    "class FeatureExtractor():\n",
    "\n",
    "    def __init__(self, sigmoid_scaling = 3):\n",
    "        self.sigmoid_scaling = sigmoid_scaling\n",
    "\n",
    "        # Create the extraction network\n",
    "        # self.weights = ResNet50_Weights.DEFAULT\n",
    "        # rn = resnet50()\n",
    "        self.weights = ResNet18_Weights.DEFAULT\n",
    "        rn = resnet18(weights=self.weights)\n",
    "\n",
    "        self.device = torch.device(\"cuda\" if torch.cuda.is_available() else \"cpu\")\n",
    "\n",
    "        # Use torch FX and load to the device\n",
    "        self.mod = create_feature_extractor(rn, {'layer4': 'layer4'})\n",
    "        self.mod = self.mod.to(self.device)\n",
    "        # Evaluation model\n",
    "        self.mod.eval()\n",
    "        # Preprocess stage\n",
    "        self.preprocess = self.weights.transforms()\n",
    "        self.min = 0.0\n",
    "        self.max = 32.0\n",
    "        self.mult_factor = 1 / (self.max - self.min) * 2\n",
    "\n",
    "    @torch.no_grad()\n",
    "    def ext_features(self, img):\n",
    "        # with torch.no_grad():\n",
    "        img = img.to('cuda')\n",
    "        prep = self.preprocess(img)\n",
    "        features = self.mod(prep)['layer4']\n",
    "        return features\n",
    "\n",
    "    @torch.no_grad()\n",
    "    def avg_features(self, features):\n",
    "        # avg_features = features.mean(dim=1).flatten(start_dim=1).detach().cpu().numpy()\n",
    "        features = features.detach().mean(dim=1).flatten(start_dim=1)\n",
    "        # avg_features = (avg_features - self.min) / (self.max - self.min) * 2 - 1\n",
    "        # avg_features = ((avg_features - self.min) * self.mult_factor - 1) * 3\n",
    "        return features\n",
    "    \n",
    "    @torch.no_grad()\n",
    "    def norm_features(self, features):\n",
    "        mean, std = features.mean((0,)), features.std((0,))\n",
    "        norm = Normalize(mean, std)\n",
    "        features = norm(features)\n",
    "        return features\n",
    "        # avg_features = avg_features.sigmoid().cpu().numpy().transpose()\n",
    "    \n",
    "    @torch.no_grad()\n",
    "    def sigmoid_squash(self, features):\n",
    "        return ((features - self.min) * self.mult_factor - 1) * self.sigmoid_scaling\n",
    "\n",
    "    @torch.no_grad()\n",
    "    def feature_chain(self, img):\n",
    "        features = ext_features(img)\n",
    "        features = avg_features(features)\n",
    "        features = norm_features(features)\n",
    "        features = sigmoid_squash(features)"
   ]
  },
  {
   "cell_type": "code",
   "execution_count": 15,
   "metadata": {},
   "outputs": [],
   "source": [
    "fe = FeatureExtractor()"
   ]
  },
  {
   "cell_type": "code",
   "execution_count": null,
   "metadata": {},
   "outputs": [],
   "source": [
    "def SplitMNISTPreprocessed(\n",
    "    n_experiences: int,\n",
    "    *,\n",
    "    return_task_id=False,\n",
    "    seed: Optional[int] = None,\n",
    "    fixed_class_order: Optional[Sequence[int]] = None,\n",
    "    shuffle: bool = True,\n",
    "    class_ids_from_zero_in_each_exp: bool = False,\n",
    "    train_transform: Optional[Any] = _default_mnist_train_transform,\n",
    "    eval_transform: Optional[Any] = _default_mnist_eval_transform,\n",
    "    dataset_root: Union[str, Path] = None\n",
    "):\n",
    "    \"\"\"\n",
    "    Creates a CL benchmark using the MNIST dataset.\n",
    "\n",
    "    If the dataset is not present in the computer, this method will\n",
    "    automatically download and store it.\n",
    "\n",
    "    The returned benchmark will return experiences containing all patterns of a\n",
    "    subset of classes, which means that each class is only seen \"once\".\n",
    "    This is one of the most common scenarios in the Continual Learning\n",
    "    literature. Common names used in literature to describe this kind of\n",
    "    scenario are \"Class Incremental\", \"New Classes\", etc. By default,\n",
    "    an equal amount of classes will be assigned to each experience.\n",
    "\n",
    "    This generator doesn't force a choice on the availability of task labels,\n",
    "    a choice that is left to the user (see the `return_task_id` parameter for\n",
    "    more info on task labels).\n",
    "\n",
    "    The benchmark instance returned by this method will have two fields,\n",
    "    `train_stream` and `test_stream`, which can be iterated to obtain\n",
    "    training and test :class:`Experience`. Each Experience contains the\n",
    "    `dataset` and the associated task label.\n",
    "\n",
    "    The benchmark API is quite simple and is uniform across all benchmark\n",
    "    generators. It is recommended to check the tutorial of the \"benchmark\" API,\n",
    "    which contains usage examples ranging from \"basic\" to \"advanced\".\n",
    "\n",
    "    :param n_experiences: The number of incremental experiences in the current\n",
    "        benchmark.\n",
    "        The value of this parameter should be a divisor of 10.\n",
    "    :param return_task_id: if True, a progressive task id is returned for every\n",
    "        experience. If False, all experiences will have a task ID of 0.\n",
    "    :param seed: A valid int used to initialize the random number generator.\n",
    "        Can be None.\n",
    "    :param fixed_class_order: A list of class IDs used to define the class\n",
    "        order. If None, value of ``seed`` will be used to define the class\n",
    "        order. If non-None, ``seed`` parameter will be ignored.\n",
    "        Defaults to None.\n",
    "    :param shuffle: If true, the class order in the incremental experiences is\n",
    "        randomly shuffled. Default to True.\n",
    "    :param class_ids_from_zero_in_each_exp: If True, original class IDs\n",
    "        will be mapped to range [0, n_classes_in_exp) for each experience.\n",
    "        Defaults to False. Mutually exclusive with the\n",
    "        ``class_ids_from_zero_from_first_exp`` parameter.\n",
    "    :param train_transform: The transformation to apply to the training data,\n",
    "        e.g. a random crop, a normalization or a concatenation of different\n",
    "        transformations (see torchvision.transform documentation for a\n",
    "        comprehensive list of possible transformations).\n",
    "        If no transformation is passed, the default train transformation\n",
    "        will be used.\n",
    "    :param eval_transform: The transformation to apply to the test data,\n",
    "        e.g. a random crop, a normalization or a concatenation of different\n",
    "        transformations (see torchvision.transform documentation for a\n",
    "        comprehensive list of possible transformations).\n",
    "        If no transformation is passed, the default test transformation\n",
    "        will be used.\n",
    "    :param dataset_root: The root path of the dataset. Defaults to None, which\n",
    "        means that the default location for 'mnist' will be used.\n",
    "\n",
    "    :returns: A properly initialized :class:`NCScenario` instance.\n",
    "    \"\"\"\n",
    "\n",
    "    mnist_train, mnist_test = get_mnist_dataset(dataset_root)\n",
    "\n",
    "    return nc_benchmark(\n",
    "        train_dataset=mnist_train,\n",
    "        test_dataset=mnist_test,\n",
    "        n_experiences=n_experiences,\n",
    "        task_labels=return_task_id,\n",
    "        seed=seed,\n",
    "        fixed_class_order=fixed_class_order,\n",
    "        shuffle=shuffle,\n",
    "        class_ids_from_zero_in_each_exp=class_ids_from_zero_in_each_exp,\n",
    "        train_transform=train_transform,\n",
    "        eval_transform=eval_transform,\n",
    "    )"
   ]
  },
  {
   "cell_type": "code",
   "execution_count": 2,
   "metadata": {},
   "outputs": [
    {
     "name": "stdout",
     "output_type": "stream",
     "text": [
      "0.00 GB\n"
     ]
    }
   ],
   "source": [
    "from torch.utils.data import DataLoader\n",
    "from julia import Main as jl\n",
    "from sklearn.metrics import accuracy_score\n",
    "import ipdb\n",
    "import torch\n",
    "# from torchvision.transforms import Lambda\n",
    "from tqdm import tqdm\n",
    "\n",
    "from torchvision.models import resnet50, resnet18\n",
    "from torchvision.models import ResNet50_Weights, ResNet18_Weights\n",
    "from torchvision import models\n",
    "from torchvision.models.feature_extraction import create_feature_extractor\n",
    "\n",
    "from sklearn.metrics import accuracy_score\n",
    "from statistics import mean\n",
    "\n",
    "class DDVFAStrategy():\n",
    "    \"\"\"DDVFA Strategy\"\"\"\n",
    "\n",
    "    def __init__(self, preprocessed=False):\n",
    "        jl.project_dir = projectdir()\n",
    "        jl.eval(\"using Pkg; Pkg.activate(project_dir)\")\n",
    "        jl.eval(\"using AdaptiveResonance\")\n",
    "        jl.eval(\"art = DDVFA(rho_lb=0.4, rho_ub=0.75)\")\n",
    "        # jl.eval(\"art = DDVFA(rho_lb=0.5, rho_ub=0.75)\")\n",
    "        jl.eval(\"art.config = DataConfig(0, 1.0, 49)\")\n",
    "        \n",
    "        self.preprocessed = preprocessed\n",
    "        if not self.preprocessed:\n",
    "            # rn = resnet50()\n",
    "            self.weights = ResNet18_Weights.DEFAULT\n",
    "            # rn = resnet18(pretrained=True)\n",
    "            rn = resnet18(weights=self.weights)\n",
    "            self.mod = create_feature_extractor(rn, {'layer4': 'layer4'})\n",
    "            self.mod = self.mod.to('cuda')\n",
    "            self.mod.eval()\n",
    "            # self.weights = ResNet50_Weights.DEFAULT\n",
    "            self.preprocess = self.weights.transforms()\n",
    "            self.min = 0.0\n",
    "            self.max = 32.0\n",
    "            self.mult_factor = 1 / (self.max - self.min) * 2\n",
    "\n",
    "    def ext_features(self, img):\n",
    "        with torch.no_grad():\n",
    "            img = img.to('cuda')\n",
    "            prep = self.preprocess(img)\n",
    "            features = self.mod(prep)['layer4']\n",
    "            # avg_features = features.mean(dim=1).flatten(start_dim=1).detach().cpu().numpy()\n",
    "            avg_features = features.detach().mean(dim=1).flatten(start_dim=1)\n",
    "            # avg_features = (avg_features - self.min) / (self.max - self.min) * 2 - 1\n",
    "            avg_features = ((avg_features - self.min) * self.mult_factor - 1) * 3\n",
    "            avg_features = avg_features.sigmoid().cpu().numpy().transpose()\n",
    "            # avg_features = features.mean(dim=1).flatten(start_dim=1).cpu().numpy()\n",
    "            # ipdb.set_trace()\n",
    "            # avg_features.flatten().detach().numpy()\n",
    "\n",
    "        return avg_features\n",
    "\n",
    "    def train(self, experience):\n",
    "        train_dataset = experience.dataset\n",
    "        t = experience.task_label\n",
    "        train_data_loader = DataLoader(\n",
    "            dataset=train_dataset,\n",
    "            pin_memory=True,\n",
    "            # batch_size=90,\n",
    "            batch_size=256,\n",
    "        )\n",
    "        print(experience.dataset.__len__())\n",
    "        for mb in tqdm(train_data_loader):\n",
    "            data, labels, tasks = mb\n",
    "            jl.features = self.ext_features(data)\n",
    "            jl.labels = labels.numpy()\n",
    "            # ipdb.set_trace()\n",
    "            jl.eval(\"train!(art, features, y=labels)\")\n",
    "\n",
    "    def eval(self, experience):\n",
    "        eval_dataset = experience.dataset\n",
    "        t = experience.task_label\n",
    "\n",
    "        eval_data_loader = DataLoader(\n",
    "            dataset=eval_dataset,\n",
    "            pin_memory=True,\n",
    "            # batch_size=90,\n",
    "            batch_size=256,\n",
    "        )\n",
    "\n",
    "        print(experience.dataset.__len__())\n",
    "        perfs = []\n",
    "        for mb in tqdm(eval_data_loader):\n",
    "            data, labels, tasks = mb\n",
    "            jl.features = self.ext_features(data)\n",
    "            jl.eval(\"y_hats = classify(art, features, get_bmu=true)\")\n",
    "            y_hats = jl.y_hats\n",
    "            # ipdb.set_trace()\n",
    "            perfs.append(accuracy_score(labels, y_hats))\n",
    "            # correct += torch.sum(y_hats == labels)\n",
    "            # total += len(data)\n",
    "        \n",
    "        return mean(perfs)\n",
    "        # j.samples = mb\n",
    "        # y_hats = j.eval(\"classify(art, samples)\")\n",
    "        # accuracy_score(y_test, y_hat)\n",
    "\n",
    "print_allocated_memory()"
   ]
  },
  {
   "cell_type": "code",
   "execution_count": 3,
   "metadata": {},
   "outputs": [
    {
     "name": "stdout",
     "output_type": "stream",
     "text": [
      "Starting experiment...\n",
      "Start of experience  0\n",
      "11791\n"
     ]
    },
    {
     "name": "stderr",
     "output_type": "stream",
     "text": [
      " 89%|████████▉ | 42/47 [01:12<00:08,  1.73s/it]\n"
     ]
    },
    {
     "ename": "KeyboardInterrupt",
     "evalue": "",
     "output_type": "error",
     "traceback": [
      "\u001b[1;31m---------------------------------------------------------------------------\u001b[0m",
      "\u001b[1;31mKeyboardInterrupt\u001b[0m                         Traceback (most recent call last)",
      "Cell \u001b[1;32mIn[3], line 26\u001b[0m\n\u001b[0;32m     23\u001b[0m \u001b[39mfor\u001b[39;00m exp_id, experience \u001b[39min\u001b[39;00m \u001b[39menumerate\u001b[39m(benchmark\u001b[39m.\u001b[39mtrain_stream):\n\u001b[0;32m     24\u001b[0m     \u001b[39mprint\u001b[39m(\u001b[39m\"\u001b[39m\u001b[39mStart of experience \u001b[39m\u001b[39m\"\u001b[39m, experience\u001b[39m.\u001b[39mcurrent_experience)\n\u001b[1;32m---> 26\u001b[0m     cl_strategy\u001b[39m.\u001b[39;49mtrain(experience)\n\u001b[0;32m     27\u001b[0m     \u001b[39mprint\u001b[39m(\u001b[39m'\u001b[39m\u001b[39mTraining completed\u001b[39m\u001b[39m'\u001b[39m)\n\u001b[0;32m     29\u001b[0m     \u001b[39mprint\u001b[39m(\u001b[39m'\u001b[39m\u001b[39mComputing accuracy on the current test set\u001b[39m\u001b[39m'\u001b[39m)\n",
      "Cell \u001b[1;32mIn[2], line 72\u001b[0m, in \u001b[0;36mDDVFAStrategy.train\u001b[1;34m(self, experience)\u001b[0m\n\u001b[0;32m     70\u001b[0m jl\u001b[39m.\u001b[39mlabels \u001b[39m=\u001b[39m labels\u001b[39m.\u001b[39mnumpy()\n\u001b[0;32m     71\u001b[0m \u001b[39m# ipdb.set_trace()\u001b[39;00m\n\u001b[1;32m---> 72\u001b[0m jl\u001b[39m.\u001b[39;49meval(\u001b[39m\"\u001b[39;49m\u001b[39mtrain!(art, features, y=labels)\u001b[39;49m\u001b[39m\"\u001b[39;49m)\n",
      "File \u001b[1;32mc:\\Users\\Sasha\\Anaconda3\\envs\\avalanche\\lib\\site-packages\\julia\\core.py:627\u001b[0m, in \u001b[0;36mJulia.eval\u001b[1;34m(self, src)\u001b[0m\n\u001b[0;32m    625\u001b[0m \u001b[39mif\u001b[39;00m src \u001b[39mis\u001b[39;00m \u001b[39mNone\u001b[39;00m:\n\u001b[0;32m    626\u001b[0m     \u001b[39mreturn\u001b[39;00m \u001b[39mNone\u001b[39;00m\n\u001b[1;32m--> 627\u001b[0m ans \u001b[39m=\u001b[39m \u001b[39mself\u001b[39;49m\u001b[39m.\u001b[39;49m_call(src)\n\u001b[0;32m    628\u001b[0m \u001b[39mif\u001b[39;00m \u001b[39mnot\u001b[39;00m ans:\n\u001b[0;32m    629\u001b[0m     \u001b[39mreturn\u001b[39;00m \u001b[39mNone\u001b[39;00m\n",
      "File \u001b[1;32mc:\\Users\\Sasha\\Anaconda3\\envs\\avalanche\\lib\\site-packages\\julia\\core.py:555\u001b[0m, in \u001b[0;36mJulia._call\u001b[1;34m(self, src)\u001b[0m\n\u001b[0;32m    553\u001b[0m \u001b[39m# logger.debug(\"_call(%s)\", src)\u001b[39;00m\n\u001b[0;32m    554\u001b[0m ans \u001b[39m=\u001b[39m \u001b[39mself\u001b[39m\u001b[39m.\u001b[39mapi\u001b[39m.\u001b[39mjl_eval_string(src\u001b[39m.\u001b[39mencode(\u001b[39m'\u001b[39m\u001b[39mutf-8\u001b[39m\u001b[39m'\u001b[39m))\n\u001b[1;32m--> 555\u001b[0m \u001b[39mself\u001b[39;49m\u001b[39m.\u001b[39;49mcheck_exception(src)\n\u001b[0;32m    557\u001b[0m \u001b[39mreturn\u001b[39;00m ans\n",
      "\u001b[1;31mKeyboardInterrupt\u001b[0m: "
     ]
    }
   ],
   "source": [
    "from avalanche.benchmarks import SplitMNIST\n",
    "from avalanche.benchmarks.classic import SplitCIFAR10\n",
    "from torchvision.transforms import Lambda\n",
    "\n",
    "trans = Lambda(lambda x: x.repeat(3, 1, 1) if x.size(0)==1 else x)\n",
    "# Benchmark creation\n",
    "benchmark = SplitMNIST(\n",
    "    n_experiences=5,\n",
    "    # n_experiences=2,\n",
    "    # n_experiences=10,\n",
    "    train_transform=trans,\n",
    "    eval_transform=trans,\n",
    ")\n",
    "# benchmark = SplitCIFAR10(n_experiences=5, return_task_id=True)\n",
    "\n",
    "# Create the Strategy Instance\n",
    "cl_strategy = DDVFAStrategy()\n",
    "\n",
    "# Training Loop\n",
    "print('Starting experiment...')\n",
    "\n",
    "results = []\n",
    "for exp_id, experience in enumerate(benchmark.train_stream):\n",
    "    print(\"Start of experience \", experience.current_experience)\n",
    "\n",
    "    cl_strategy.train(experience)\n",
    "    print('Training completed')\n",
    "\n",
    "    print('Computing accuracy on the current test set')\n",
    "    results.append(cl_strategy.eval(benchmark.test_stream[exp_id]))\n",
    "    # results.append(cl_strategy.eval(scenario.test_stream))\n"
   ]
  },
  {
   "cell_type": "code",
   "execution_count": 5,
   "metadata": {},
   "outputs": [
    {
     "data": {
      "text/plain": [
       "[4, 7]"
      ]
     },
     "execution_count": 5,
     "metadata": {},
     "output_type": "execute_result"
    }
   ],
   "source": [
    "benchmark.test_stream[1].classes_in_this_experience\n",
    "# benchmark.train_stream[1].classes_in_this_experience"
   ]
  },
  {
   "cell_type": "code",
   "execution_count": 4,
   "metadata": {},
   "outputs": [
    {
     "data": {
      "text/plain": [
       "[0.9266000859106529, 0.0]"
      ]
     },
     "execution_count": 4,
     "metadata": {},
     "output_type": "execute_result"
    }
   ],
   "source": [
    "results"
   ]
  },
  {
   "cell_type": "code",
   "execution_count": 14,
   "metadata": {},
   "outputs": [
    {
     "name": "stdout",
     "output_type": "stream",
     "text": [
      "12862\n",
      "(12862,)\n"
     ]
    }
   ],
   "source": [
    "print(jl.eval(\"AdaptiveResonance.get_n_weights(art)\"))\n",
    "print(jl.eval(\"size(art.F2)\"))"
   ]
  },
  {
   "cell_type": "code",
   "execution_count": null,
   "metadata": {},
   "outputs": [],
   "source": [
    "a = [1,1,2,3]\n",
    "b = [1,2,2,3]\n",
    "from sklearn.metrics import accuracy_score\n",
    "from statistics import mean\n",
    "\n",
    "# mean(a)\n",
    "# accuracy_score(a, b)"
   ]
  },
  {
   "cell_type": "code",
   "execution_count": null,
   "metadata": {},
   "outputs": [
    {
     "name": "stdout",
     "output_type": "stream",
     "text": [
      "1234\n"
     ]
    }
   ],
   "source": [
    "jl.eval(\"a = 1234\")\n",
    "print(jl.a)"
   ]
  }
 ],
 "metadata": {
  "kernelspec": {
   "display_name": "avalanche",
   "language": "python",
   "name": "python3"
  },
  "language_info": {
   "codemirror_mode": {
    "name": "ipython",
    "version": 3
   },
   "file_extension": ".py",
   "mimetype": "text/x-python",
   "name": "python",
   "nbconvert_exporter": "python",
   "pygments_lexer": "ipython3",
   "version": "3.9.16"
  },
  "orig_nbformat": 4
 },
 "nbformat": 4,
 "nbformat_minor": 2
}

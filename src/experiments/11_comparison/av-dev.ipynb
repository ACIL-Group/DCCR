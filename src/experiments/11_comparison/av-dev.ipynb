{
 "cells": [
  {
   "cell_type": "code",
   "execution_count": 1,
   "metadata": {},
   "outputs": [],
   "source": [
    "import julia\n",
    "julia.install()\n",
    "\n",
    "from pathlib import Path\n",
    "\n",
    "# # Point to the top of the project relative to this script\n",
    "def projectdir(*args):\n",
    "    return str(Path.cwd().joinpath(\"..\", \"..\", \"..\", *args).resolve())\n",
    "\n",
    "def print_allocated_memory():\n",
    "   print(\"{:.2f} GB\".format(torch.cuda.memory_allocated() / 1024 ** 3))"
   ]
  },
  {
   "cell_type": "code",
   "execution_count": 2,
   "metadata": {},
   "outputs": [
    {
     "name": "stderr",
     "output_type": "stream",
     "text": [
      "100%|██████████| 235/235 [00:22<00:00, 10.23it/s]\n",
      "100%|██████████| 40/40 [00:03<00:00, 11.49it/s]\n"
     ]
    }
   ],
   "source": [
    "from src.datasets.smnistp import SplitMNISTPreprocessed\n",
    "\n",
    "benchmark = SplitMNISTPreprocessed(\n",
    "    # n_experiences=5,\n",
    "    n_experiences=10,\n",
    "    shuffle=False,\n",
    "    replace_existing=True,\n",
    ")"
   ]
  },
  {
   "cell_type": "code",
   "execution_count": 3,
   "metadata": {},
   "outputs": [
    {
     "name": "stdout",
     "output_type": "stream",
     "text": [
      "Starting experiment...\n",
      "Start of experience  0\n",
      "5923\n"
     ]
    },
    {
     "name": "stderr",
     "output_type": "stream",
     "text": [
      " 67%|██████▋   | 16/24 [00:52<00:26,  3.28s/it, jl time=4.68]\n"
     ]
    },
    {
     "ename": "KeyboardInterrupt",
     "evalue": "",
     "output_type": "error",
     "traceback": [
      "\u001b[1;31m---------------------------------------------------------------------------\u001b[0m",
      "\u001b[1;31mKeyboardInterrupt\u001b[0m                         Traceback (most recent call last)",
      "Cell \u001b[1;32mIn[3], line 14\u001b[0m\n\u001b[0;32m     11\u001b[0m \u001b[39mfor\u001b[39;00m exp_id, experience \u001b[39min\u001b[39;00m \u001b[39menumerate\u001b[39m(benchmark\u001b[39m.\u001b[39mtrain_stream):\n\u001b[0;32m     12\u001b[0m     \u001b[39mprint\u001b[39m(\u001b[39m\"\u001b[39m\u001b[39mStart of experience \u001b[39m\u001b[39m\"\u001b[39m, experience\u001b[39m.\u001b[39mcurrent_experience)\n\u001b[1;32m---> 14\u001b[0m     train_results\u001b[39m.\u001b[39mappend(cl_strategy\u001b[39m.\u001b[39;49mtrain(experience))\n\u001b[0;32m     15\u001b[0m     \u001b[39mprint\u001b[39m(\u001b[39m'\u001b[39m\u001b[39mTraining completed\u001b[39m\u001b[39m'\u001b[39m)\n\u001b[0;32m     17\u001b[0m     \u001b[39mprint\u001b[39m(\u001b[39m'\u001b[39m\u001b[39mComputing accuracy on the current test set\u001b[39m\u001b[39m'\u001b[39m)\n",
      "File \u001b[1;32mc:\\Users\\Sasha\\Repos\\github\\DCCR\\src\\experiments\\11_comparison\\src\\ddvfa.py:106\u001b[0m, in \u001b[0;36mDDVFAStrategy.train\u001b[1;34m(self, experience)\u001b[0m\n\u001b[0;32m    103\u001b[0m \u001b[39m# ipdb.set_trace()\u001b[39;00m\n\u001b[0;32m    105\u001b[0m start_time \u001b[39m=\u001b[39m time\u001b[39m.\u001b[39mtime()\n\u001b[1;32m--> 106\u001b[0m \u001b[39mself\u001b[39;49m\u001b[39m.\u001b[39;49mjl_train()\n\u001b[0;32m    107\u001b[0m end_time \u001b[39m=\u001b[39m time\u001b[39m.\u001b[39mtime()\n\u001b[0;32m    108\u001b[0m jl_eval \u001b[39m=\u001b[39m end_time \u001b[39m-\u001b[39m start_time\n",
      "File \u001b[1;32mc:\\Users\\Sasha\\Repos\\github\\DCCR\\src\\experiments\\11_comparison\\src\\ddvfa.py:80\u001b[0m, in \u001b[0;36mDDVFAStrategy.jl_train\u001b[1;34m(self)\u001b[0m\n\u001b[0;32m     79\u001b[0m \u001b[39mdef\u001b[39;00m \u001b[39mjl_train\u001b[39m(\u001b[39mself\u001b[39m):\n\u001b[1;32m---> 80\u001b[0m     jl\u001b[39m.\u001b[39;49meval(\u001b[39m\"\u001b[39;49m\u001b[39my_hats = train!(art, features, y=labels)\u001b[39;49m\u001b[39m\"\u001b[39;49m)\n",
      "File \u001b[1;32mc:\\Users\\Sasha\\Anaconda3\\envs\\avalanche\\lib\\site-packages\\julia\\core.py:627\u001b[0m, in \u001b[0;36mJulia.eval\u001b[1;34m(self, src)\u001b[0m\n\u001b[0;32m    625\u001b[0m \u001b[39mif\u001b[39;00m src \u001b[39mis\u001b[39;00m \u001b[39mNone\u001b[39;00m:\n\u001b[0;32m    626\u001b[0m     \u001b[39mreturn\u001b[39;00m \u001b[39mNone\u001b[39;00m\n\u001b[1;32m--> 627\u001b[0m ans \u001b[39m=\u001b[39m \u001b[39mself\u001b[39;49m\u001b[39m.\u001b[39;49m_call(src)\n\u001b[0;32m    628\u001b[0m \u001b[39mif\u001b[39;00m \u001b[39mnot\u001b[39;00m ans:\n\u001b[0;32m    629\u001b[0m     \u001b[39mreturn\u001b[39;00m \u001b[39mNone\u001b[39;00m\n",
      "File \u001b[1;32mc:\\Users\\Sasha\\Anaconda3\\envs\\avalanche\\lib\\site-packages\\julia\\core.py:555\u001b[0m, in \u001b[0;36mJulia._call\u001b[1;34m(self, src)\u001b[0m\n\u001b[0;32m    553\u001b[0m \u001b[39m# logger.debug(\"_call(%s)\", src)\u001b[39;00m\n\u001b[0;32m    554\u001b[0m ans \u001b[39m=\u001b[39m \u001b[39mself\u001b[39m\u001b[39m.\u001b[39mapi\u001b[39m.\u001b[39mjl_eval_string(src\u001b[39m.\u001b[39mencode(\u001b[39m'\u001b[39m\u001b[39mutf-8\u001b[39m\u001b[39m'\u001b[39m))\n\u001b[1;32m--> 555\u001b[0m \u001b[39mself\u001b[39;49m\u001b[39m.\u001b[39;49mcheck_exception(src)\n\u001b[0;32m    557\u001b[0m \u001b[39mreturn\u001b[39;00m ans\n",
      "\u001b[1;31mKeyboardInterrupt\u001b[0m: "
     ]
    }
   ],
   "source": [
    "from src.ddvfa import DDVFAStrategy\n",
    "\n",
    "# Create the Strategy Instance\n",
    "cl_strategy = DDVFAStrategy(\n",
    "    projectdir(),   \n",
    ")\n",
    "\n",
    "# Training Loop\n",
    "print('Starting experiment...')\n",
    "\n",
    "results = []\n",
    "train_results = []\n",
    "for exp_id, experience in enumerate(benchmark.train_stream):\n",
    "    print(\"Start of experience \", experience.current_experience)\n",
    "\n",
    "    train_results.append(cl_strategy.train(experience))\n",
    "    print('Training completed')\n",
    "\n",
    "    print('Computing accuracy on the current test set')\n",
    "    results.append(cl_strategy.eval(benchmark.test_stream[exp_id]))\n",
    "    # results.append(cl_strategy.eval(scenario.test_stream))\n"
   ]
  },
  {
   "cell_type": "code",
   "execution_count": null,
   "metadata": {},
   "outputs": [
    {
     "data": {
      "text/plain": [
       "tensor([0.5175, 0.5121, 0.5146,  ..., 0.4809, 0.4826, 0.5080])"
      ]
     },
     "execution_count": 10,
     "metadata": {},
     "output_type": "execute_result"
    }
   ],
   "source": [
    "benchmark.train_stream.__getitem__(0).dataset[0][0]"
   ]
  },
  {
   "cell_type": "code",
   "execution_count": null,
   "metadata": {},
   "outputs": [
    {
     "name": "stdout",
     "output_type": "stream",
     "text": [
      "[1.0, 0.4152027027027027] [1.0, 1.0]\n"
     ]
    }
   ],
   "source": [
    "print(results, train_results)"
   ]
  },
  {
   "cell_type": "code",
   "execution_count": null,
   "metadata": {},
   "outputs": [
    {
     "data": {
      "text/plain": [
       "[0]"
      ]
     },
     "execution_count": 17,
     "metadata": {},
     "output_type": "execute_result"
    }
   ],
   "source": [
    "benchmark.train_stream[0].classes_in_this_experience"
   ]
  },
  {
   "cell_type": "code",
   "execution_count": null,
   "metadata": {},
   "outputs": [
    {
     "data": {
      "text/plain": [
       "1"
      ]
     },
     "execution_count": 12,
     "metadata": {},
     "output_type": "execute_result"
    }
   ],
   "source": [
    "import numpy as np\n",
    "\n",
    "jl.x = np.random.rand(49)\n",
    "jl.y = 0\n",
    "jl.eval(\"train!(art, x, y=y)\")\n"
   ]
  },
  {
   "cell_type": "code",
   "execution_count": null,
   "metadata": {},
   "outputs": [
    {
     "name": "stdout",
     "output_type": "stream",
     "text": [
      "1\n",
      "(1,)\n",
      "[1]\n",
      "True\n",
      "<class 'numpy.ndarray'>\n"
     ]
    }
   ],
   "source": [
    "from julia import Main as jl\n",
    "\n",
    "print(jl.eval(\"AdaptiveResonance.get_n_weights(art)\"))\n",
    "print(jl.eval(\"size(art.F2)\"))\n",
    "print(jl.eval(\"art.labels\"))\n",
    "print(1 == jl.eval(\"length(unique(art.labels))\"))\n",
    "print(type(jl.eval(\"unique(art.labels)\")))"
   ]
  }
 ],
 "metadata": {
  "kernelspec": {
   "display_name": "avalanche",
   "language": "python",
   "name": "python3"
  },
  "language_info": {
   "codemirror_mode": {
    "name": "ipython",
    "version": 3
   },
   "file_extension": ".py",
   "mimetype": "text/x-python",
   "name": "python",
   "nbconvert_exporter": "python",
   "pygments_lexer": "ipython3",
   "version": "3.9.16"
  },
  "orig_nbformat": 4
 },
 "nbformat": 4,
 "nbformat_minor": 2
}

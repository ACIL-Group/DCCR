{
 "cells": [
  {
   "cell_type": "code",
   "execution_count": 1,
   "metadata": {},
   "outputs": [],
   "source": [
    "import julia\n",
    "julia.install()\n",
    "\n",
    "from pathlib import Path\n",
    "\n",
    "# # Point to the top of the project relative to this script\n",
    "def projectdir(*args):\n",
    "    return str(Path.cwd().joinpath(\"..\", \"..\", \"..\", *args).resolve())\n",
    "\n",
    "def print_allocated_memory():\n",
    "   print(\"{:.2f} GB\".format(torch.cuda.memory_allocated() / 1024 ** 3))"
   ]
  },
  {
   "cell_type": "code",
   "execution_count": 2,
   "metadata": {},
   "outputs": [
    {
     "name": "stdout",
     "output_type": "stream",
     "text": [
      "0.00 GB\n"
     ]
    }
   ],
   "source": [
    "from torch.utils.data import DataLoader\n",
    "from julia import Main as jl\n",
    "from sklearn.metrics import accuracy_score\n",
    "import ipdb\n",
    "import torch\n",
    "# from torchvision.transforms import Lambda\n",
    "from tqdm import tqdm\n",
    "\n",
    "from torchvision.models import resnet50, resnet18\n",
    "from torchvision.models import ResNet50_Weights, ResNet18_Weights\n",
    "from torchvision import models\n",
    "from torchvision.models.feature_extraction import create_feature_extractor\n",
    "\n",
    "from sklearn.metrics import accuracy_score\n",
    "from statistics import mean\n",
    "\n",
    "class DDVFAStrategy():\n",
    "    \"\"\"DDVFA Strategy\"\"\"\n",
    "\n",
    "    def __init__(self):\n",
    "        jl.project_dir = projectdir()\n",
    "        jl.eval(\"using Pkg; Pkg.activate(project_dir)\")\n",
    "        jl.eval(\"using AdaptiveResonance\")\n",
    "        # jl.eval(\"art = DDVFA(rho_lb=0.4, rho_ub=0.75)\")\n",
    "        jl.eval(\"art = DDVFA(rho_lb=0.5, rho_ub=0.75)\")\n",
    "        jl.eval(\"art.config = DataConfig(0, 1.0, 49)\")\n",
    "        \n",
    "        # rn = resnet50()\n",
    "        self.weights = ResNet18_Weights.DEFAULT\n",
    "        # rn = resnet18(pretrained=True)\n",
    "        rn = resnet18(weights=self.weights)\n",
    "        self.mod = create_feature_extractor(rn, {'layer4': 'layer4'})\n",
    "        self.mod = self.mod.to('cuda')\n",
    "        self.mod.eval()\n",
    "        # self.weights = ResNet50_Weights.DEFAULT\n",
    "        self.preprocess = self.weights.transforms()\n",
    "        self.min = 0.0\n",
    "        self.max = 32.0\n",
    "        self.mult_factor = 1 / (self.max - self.min) * 2\n",
    "\n",
    "    def ext_features(self, img):\n",
    "        with torch.no_grad():\n",
    "            img = img.to('cuda')\n",
    "            prep = self.preprocess(img)\n",
    "            features = self.mod(prep)['layer4']\n",
    "            # avg_features = features.mean(dim=1).flatten(start_dim=1).detach().cpu().numpy()\n",
    "            avg_features = features.detach().mean(dim=1).flatten(start_dim=1)\n",
    "            # avg_features = (avg_features - self.min) / (self.max - self.min) * 2 - 1\n",
    "            avg_features = ((avg_features - self.min) * self.mult_factor - 1) * 3\n",
    "            avg_features = avg_features.sigmoid().cpu().numpy().transpose()\n",
    "            # avg_features = features.mean(dim=1).flatten(start_dim=1).cpu().numpy()\n",
    "            # ipdb.set_trace()\n",
    "            # avg_features.flatten().detach().numpy()\n",
    "\n",
    "        return avg_features\n",
    "\n",
    "    def train(self, experience):\n",
    "        train_dataset = experience.dataset\n",
    "        t = experience.task_label\n",
    "        train_data_loader = DataLoader(\n",
    "            dataset=train_dataset,\n",
    "            pin_memory=True,\n",
    "            # batch_size=90,\n",
    "            batch_size=256,\n",
    "        )\n",
    "        print(experience.dataset.__len__())\n",
    "        for mb in tqdm(train_data_loader):\n",
    "            data, labels, tasks = mb\n",
    "            jl.features = self.ext_features(data)\n",
    "            jl.labels = labels.numpy()\n",
    "            # ipdb.set_trace()\n",
    "            jl.eval(\"train!(art, features, y=labels)\")\n",
    "\n",
    "    def eval(self, experience):\n",
    "        eval_dataset = experience.dataset\n",
    "        t = experience.task_label\n",
    "\n",
    "        eval_data_loader = DataLoader(\n",
    "            dataset=eval_dataset,\n",
    "            pin_memory=True,\n",
    "            # batch_size=90,\n",
    "            batch_size=256,\n",
    "        )\n",
    "\n",
    "        print(experience.dataset.__len__())\n",
    "        perfs = []\n",
    "        for mb in tqdm(eval_data_loader):\n",
    "            data, labels, tasks = mb\n",
    "            jl.features = self.ext_features(data)\n",
    "            jl.eval(\"y_hats = classify(art, features)\")\n",
    "            y_hats = jl.y_hats\n",
    "            # ipdb.set_trace()\n",
    "            perfs.append(accuracy_score(labels, y_hats))\n",
    "            # correct += torch.sum(y_hats == labels)\n",
    "            # total += len(data)\n",
    "        \n",
    "        return mean(perfs)\n",
    "        # j.samples = mb\n",
    "        # y_hats = j.eval(\"classify(art, samples)\")\n",
    "        # accuracy_score(y_test, y_hat)\n",
    "\n",
    "print_allocated_memory()"
   ]
  },
  {
   "cell_type": "code",
   "execution_count": 3,
   "metadata": {},
   "outputs": [
    {
     "name": "stdout",
     "output_type": "stream",
     "text": [
      "Starting experiment...\n",
      "Start of experience  0\n",
      "12873\n"
     ]
    },
    {
     "name": "stderr",
     "output_type": "stream",
     "text": [
      "100%|██████████| 51/51 [00:24<00:00,  2.05it/s]\n"
     ]
    },
    {
     "name": "stdout",
     "output_type": "stream",
     "text": [
      "Training completed\n",
      "Computing accuracy on the current test set\n",
      "2145\n"
     ]
    },
    {
     "name": "stderr",
     "output_type": "stream",
     "text": [
      "100%|██████████| 9/9 [00:04<00:00,  1.91it/s]\n"
     ]
    },
    {
     "name": "stdout",
     "output_type": "stream",
     "text": [
      "Start of experience  1\n",
      "12107\n"
     ]
    },
    {
     "name": "stderr",
     "output_type": "stream",
     "text": [
      "100%|██████████| 48/48 [02:30<00:00,  3.13s/it]\n"
     ]
    },
    {
     "name": "stdout",
     "output_type": "stream",
     "text": [
      "Training completed\n",
      "Computing accuracy on the current test set\n",
      "2010\n"
     ]
    },
    {
     "name": "stderr",
     "output_type": "stream",
     "text": [
      "100%|██████████| 8/8 [00:48<00:00,  6.05s/it]\n"
     ]
    },
    {
     "name": "stdout",
     "output_type": "stream",
     "text": [
      "Start of experience  2\n",
      "11841\n"
     ]
    },
    {
     "name": "stderr",
     "output_type": "stream",
     "text": [
      "  2%|▏         | 1/47 [00:06<04:53,  6.39s/it]\n"
     ]
    },
    {
     "ename": "KeyboardInterrupt",
     "evalue": "",
     "output_type": "error",
     "traceback": [
      "\u001b[1;31m---------------------------------------------------------------------------\u001b[0m",
      "\u001b[1;31mKeyboardInterrupt\u001b[0m                         Traceback (most recent call last)",
      "Cell \u001b[1;32mIn[3], line 26\u001b[0m\n\u001b[0;32m     23\u001b[0m \u001b[39mfor\u001b[39;00m exp_id, experience \u001b[39min\u001b[39;00m \u001b[39menumerate\u001b[39m(benchmark\u001b[39m.\u001b[39mtrain_stream):\n\u001b[0;32m     24\u001b[0m     \u001b[39mprint\u001b[39m(\u001b[39m\"\u001b[39m\u001b[39mStart of experience \u001b[39m\u001b[39m\"\u001b[39m, experience\u001b[39m.\u001b[39mcurrent_experience)\n\u001b[1;32m---> 26\u001b[0m     cl_strategy\u001b[39m.\u001b[39;49mtrain(experience)\n\u001b[0;32m     27\u001b[0m     \u001b[39mprint\u001b[39m(\u001b[39m'\u001b[39m\u001b[39mTraining completed\u001b[39m\u001b[39m'\u001b[39m)\n\u001b[0;32m     29\u001b[0m     \u001b[39mprint\u001b[39m(\u001b[39m'\u001b[39m\u001b[39mComputing accuracy on the current test set\u001b[39m\u001b[39m'\u001b[39m)\n",
      "Cell \u001b[1;32mIn[2], line 69\u001b[0m, in \u001b[0;36mDDVFAStrategy.train\u001b[1;34m(self, experience)\u001b[0m\n\u001b[0;32m     67\u001b[0m \u001b[39mfor\u001b[39;00m mb \u001b[39min\u001b[39;00m tqdm(train_data_loader):\n\u001b[0;32m     68\u001b[0m     data, labels, tasks \u001b[39m=\u001b[39m mb\n\u001b[1;32m---> 69\u001b[0m     jl\u001b[39m.\u001b[39mfeatures \u001b[39m=\u001b[39m \u001b[39mself\u001b[39;49m\u001b[39m.\u001b[39;49mext_features(data)\n\u001b[0;32m     70\u001b[0m     jl\u001b[39m.\u001b[39mlabels \u001b[39m=\u001b[39m labels\u001b[39m.\u001b[39mnumpy()\n\u001b[0;32m     71\u001b[0m     \u001b[39m# ipdb.set_trace()\u001b[39;00m\n",
      "Cell \u001b[1;32mIn[2], line 50\u001b[0m, in \u001b[0;36mDDVFAStrategy.ext_features\u001b[1;34m(self, img)\u001b[0m\n\u001b[0;32m     48\u001b[0m     \u001b[39m# avg_features = (avg_features - self.min) / (self.max - self.min) * 2 - 1\u001b[39;00m\n\u001b[0;32m     49\u001b[0m     avg_features \u001b[39m=\u001b[39m ((avg_features \u001b[39m-\u001b[39m \u001b[39mself\u001b[39m\u001b[39m.\u001b[39mmin) \u001b[39m*\u001b[39m \u001b[39mself\u001b[39m\u001b[39m.\u001b[39mmult_factor \u001b[39m-\u001b[39m \u001b[39m1\u001b[39m) \u001b[39m*\u001b[39m \u001b[39m3\u001b[39m\n\u001b[1;32m---> 50\u001b[0m     avg_features \u001b[39m=\u001b[39m avg_features\u001b[39m.\u001b[39;49msigmoid()\u001b[39m.\u001b[39;49mcpu()\u001b[39m.\u001b[39mnumpy()\u001b[39m.\u001b[39mtranspose()\n\u001b[0;32m     51\u001b[0m     \u001b[39m# avg_features = features.mean(dim=1).flatten(start_dim=1).cpu().numpy()\u001b[39;00m\n\u001b[0;32m     52\u001b[0m     \u001b[39m# ipdb.set_trace()\u001b[39;00m\n\u001b[0;32m     53\u001b[0m     \u001b[39m# avg_features.flatten().detach().numpy()\u001b[39;00m\n\u001b[0;32m     55\u001b[0m \u001b[39mreturn\u001b[39;00m avg_features\n",
      "\u001b[1;31mKeyboardInterrupt\u001b[0m: "
     ]
    }
   ],
   "source": [
    "from avalanche.benchmarks import SplitMNIST\n",
    "from avalanche.benchmarks.classic import SplitCIFAR10\n",
    "from torchvision.transforms import Lambda\n",
    "\n",
    "trans = Lambda(lambda x: x.repeat(3, 1, 1) if x.size(0)==1 else x)\n",
    "# Benchmark creation\n",
    "benchmark = SplitMNIST(\n",
    "    n_experiences=5,\n",
    "    # n_experiences=2,\n",
    "    # n_experiences=10,\n",
    "    train_transform=trans,\n",
    "    eval_transform=trans,\n",
    ")\n",
    "# benchmark = SplitCIFAR10(n_experiences=5, return_task_id=True)\n",
    "\n",
    "# Create the Strategy Instance\n",
    "cl_strategy = DDVFAStrategy()\n",
    "\n",
    "# Training Loop\n",
    "print('Starting experiment...')\n",
    "\n",
    "results = []\n",
    "for exp_id, experience in enumerate(benchmark.train_stream):\n",
    "    print(\"Start of experience \", experience.current_experience)\n",
    "\n",
    "    cl_strategy.train(experience)\n",
    "    print('Training completed')\n",
    "\n",
    "    print('Computing accuracy on the current test set')\n",
    "    results.append(cl_strategy.eval(benchmark.test_stream[exp_id]))\n",
    "    # results.append(cl_strategy.eval(scenario.test_stream))\n"
   ]
  },
  {
   "cell_type": "code",
   "execution_count": 5,
   "metadata": {},
   "outputs": [
    {
     "data": {
      "text/plain": [
       "[4, 7]"
      ]
     },
     "execution_count": 5,
     "metadata": {},
     "output_type": "execute_result"
    }
   ],
   "source": [
    "benchmark.test_stream[1].classes_in_this_experience\n",
    "# benchmark.train_stream[1].classes_in_this_experience"
   ]
  },
  {
   "cell_type": "code",
   "execution_count": 4,
   "metadata": {},
   "outputs": [
    {
     "data": {
      "text/plain": [
       "[0.9266000859106529, 0.0]"
      ]
     },
     "execution_count": 4,
     "metadata": {},
     "output_type": "execute_result"
    }
   ],
   "source": [
    "results"
   ]
  },
  {
   "cell_type": "code",
   "execution_count": 14,
   "metadata": {},
   "outputs": [
    {
     "name": "stdout",
     "output_type": "stream",
     "text": [
      "12862\n",
      "(12862,)\n"
     ]
    }
   ],
   "source": [
    "print(jl.eval(\"AdaptiveResonance.get_n_weights(art)\"))\n",
    "print(jl.eval(\"size(art.F2)\"))"
   ]
  },
  {
   "cell_type": "code",
   "execution_count": null,
   "metadata": {},
   "outputs": [],
   "source": [
    "a = [1,1,2,3]\n",
    "b = [1,2,2,3]\n",
    "from sklearn.metrics import accuracy_score\n",
    "from statistics import mean\n",
    "\n",
    "# mean(a)\n",
    "# accuracy_score(a, b)"
   ]
  },
  {
   "cell_type": "code",
   "execution_count": null,
   "metadata": {},
   "outputs": [
    {
     "name": "stdout",
     "output_type": "stream",
     "text": [
      "1234\n"
     ]
    }
   ],
   "source": [
    "jl.eval(\"a = 1234\")\n",
    "print(jl.a)"
   ]
  }
 ],
 "metadata": {
  "kernelspec": {
   "display_name": "avalanche",
   "language": "python",
   "name": "python3"
  },
  "language_info": {
   "codemirror_mode": {
    "name": "ipython",
    "version": 3
   },
   "file_extension": ".py",
   "mimetype": "text/x-python",
   "name": "python",
   "nbconvert_exporter": "python",
   "pygments_lexer": "ipython3",
   "version": "3.9.16"
  },
  "orig_nbformat": 4
 },
 "nbformat": 4,
 "nbformat_minor": 2
}

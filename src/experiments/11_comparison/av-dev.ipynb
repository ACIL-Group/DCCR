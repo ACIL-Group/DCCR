{
 "cells": [
  {
   "cell_type": "code",
   "execution_count": 1,
   "metadata": {},
   "outputs": [],
   "source": [
    "import julia\n",
    "julia.install()\n",
    "\n",
    "from pathlib import Path\n",
    "\n",
    "# # Point to the top of the project relative to this script\n",
    "def projectdir(*args):\n",
    "    return str(Path.cwd().joinpath(\"..\", \"..\", \"..\", *args).resolve())\n",
    "\n",
    "def print_allocated_memory():\n",
    "   print(\"{:.2f} GB\".format(torch.cuda.memory_allocated() / 1024 ** 3))"
   ]
  },
  {
   "cell_type": "code",
   "execution_count": 2,
   "metadata": {},
   "outputs": [],
   "source": [
    "from src.smnistp import SplitMNISTPreprocessed\n",
    "\n",
    "benchmark = SplitMNISTPreprocessed(\n",
    "    # n_experiences=5,\n",
    "    n_experiences=10,\n",
    "    shuffle=False,\n",
    ")"
   ]
  },
  {
   "cell_type": "code",
   "execution_count": 3,
   "metadata": {},
   "outputs": [
    {
     "name": "stdout",
     "output_type": "stream",
     "text": [
      "Starting experiment...\n",
      "Start of experience  0\n",
      "5923\n"
     ]
    },
    {
     "name": "stderr",
     "output_type": "stream",
     "text": [
      "100%|██████████| 24/24 [00:06<00:00,  3.71it/s, jl time=0.006] \n"
     ]
    },
    {
     "name": "stdout",
     "output_type": "stream",
     "text": [
      "Training completed\n",
      "Computing accuracy on the current test set\n",
      "980\n"
     ]
    },
    {
     "name": "stderr",
     "output_type": "stream",
     "text": [
      "100%|██████████| 4/4 [00:00<00:00,  7.79it/s, jl time=0.043]\n"
     ]
    },
    {
     "name": "stdout",
     "output_type": "stream",
     "text": [
      "Start of experience  1\n",
      "6742\n"
     ]
    },
    {
     "name": "stderr",
     "output_type": "stream",
     "text": [
      "100%|██████████| 27/27 [00:04<00:00,  6.21it/s, jl time=0.021] \n"
     ]
    },
    {
     "name": "stdout",
     "output_type": "stream",
     "text": [
      "Training completed\n",
      "Computing accuracy on the current test set\n",
      "1135\n"
     ]
    },
    {
     "name": "stderr",
     "output_type": "stream",
     "text": [
      "100%|██████████| 5/5 [00:00<00:00, 12.88it/s, jl time=0.01]  \n"
     ]
    },
    {
     "name": "stdout",
     "output_type": "stream",
     "text": [
      "Start of experience  2\n",
      "5958\n"
     ]
    },
    {
     "name": "stderr",
     "output_type": "stream",
     "text": [
      "100%|██████████| 24/24 [00:16<00:00,  1.48it/s, jl time=0.348]\n"
     ]
    },
    {
     "name": "stdout",
     "output_type": "stream",
     "text": [
      "Training completed\n",
      "Computing accuracy on the current test set\n",
      "1032\n"
     ]
    },
    {
     "name": "stderr",
     "output_type": "stream",
     "text": [
      "100%|██████████| 5/5 [00:05<00:00,  1.00s/it, jl time=0.0421]\n"
     ]
    },
    {
     "name": "stdout",
     "output_type": "stream",
     "text": [
      "Start of experience  3\n",
      "6131\n"
     ]
    },
    {
     "name": "stderr",
     "output_type": "stream",
     "text": [
      " 33%|███▎      | 8/24 [00:17<00:34,  2.15s/it, jl time=2.23]\n"
     ]
    },
    {
     "ename": "KeyboardInterrupt",
     "evalue": "",
     "output_type": "error",
     "traceback": [
      "\u001b[1;31m---------------------------------------------------------------------------\u001b[0m",
      "\u001b[1;31mKeyboardInterrupt\u001b[0m                         Traceback (most recent call last)",
      "Cell \u001b[1;32mIn[3], line 14\u001b[0m\n\u001b[0;32m     11\u001b[0m \u001b[39mfor\u001b[39;00m exp_id, experience \u001b[39min\u001b[39;00m \u001b[39menumerate\u001b[39m(benchmark\u001b[39m.\u001b[39mtrain_stream):\n\u001b[0;32m     12\u001b[0m     \u001b[39mprint\u001b[39m(\u001b[39m\"\u001b[39m\u001b[39mStart of experience \u001b[39m\u001b[39m\"\u001b[39m, experience\u001b[39m.\u001b[39mcurrent_experience)\n\u001b[1;32m---> 14\u001b[0m     train_results\u001b[39m.\u001b[39mappend(cl_strategy\u001b[39m.\u001b[39;49mtrain(experience))\n\u001b[0;32m     15\u001b[0m     \u001b[39mprint\u001b[39m(\u001b[39m'\u001b[39m\u001b[39mTraining completed\u001b[39m\u001b[39m'\u001b[39m)\n\u001b[0;32m     17\u001b[0m     \u001b[39mprint\u001b[39m(\u001b[39m'\u001b[39m\u001b[39mComputing accuracy on the current test set\u001b[39m\u001b[39m'\u001b[39m)\n",
      "File \u001b[1;32mc:\\Users\\Sasha\\Repos\\github\\DCCR\\src\\experiments\\11_comparison\\src\\ddvfa.py:102\u001b[0m, in \u001b[0;36mDDVFAStrategy.train\u001b[1;34m(self, experience)\u001b[0m\n\u001b[0;32m     99\u001b[0m \u001b[39m# ipdb.set_trace()\u001b[39;00m\n\u001b[0;32m    101\u001b[0m start_time \u001b[39m=\u001b[39m time\u001b[39m.\u001b[39mtime()\n\u001b[1;32m--> 102\u001b[0m jl\u001b[39m.\u001b[39;49meval(\u001b[39m\"\u001b[39;49m\u001b[39my_hats = train!(art, features, y=labels)\u001b[39;49m\u001b[39m\"\u001b[39;49m)\n\u001b[0;32m    103\u001b[0m end_time \u001b[39m=\u001b[39m time\u001b[39m.\u001b[39mtime()\n\u001b[0;32m    104\u001b[0m jl_eval \u001b[39m=\u001b[39m end_time \u001b[39m-\u001b[39m start_time\n",
      "File \u001b[1;32mc:\\Users\\Sasha\\Anaconda3\\envs\\avalanche\\lib\\site-packages\\julia\\core.py:627\u001b[0m, in \u001b[0;36mJulia.eval\u001b[1;34m(self, src)\u001b[0m\n\u001b[0;32m    625\u001b[0m \u001b[39mif\u001b[39;00m src \u001b[39mis\u001b[39;00m \u001b[39mNone\u001b[39;00m:\n\u001b[0;32m    626\u001b[0m     \u001b[39mreturn\u001b[39;00m \u001b[39mNone\u001b[39;00m\n\u001b[1;32m--> 627\u001b[0m ans \u001b[39m=\u001b[39m \u001b[39mself\u001b[39;49m\u001b[39m.\u001b[39;49m_call(src)\n\u001b[0;32m    628\u001b[0m \u001b[39mif\u001b[39;00m \u001b[39mnot\u001b[39;00m ans:\n\u001b[0;32m    629\u001b[0m     \u001b[39mreturn\u001b[39;00m \u001b[39mNone\u001b[39;00m\n",
      "File \u001b[1;32mc:\\Users\\Sasha\\Anaconda3\\envs\\avalanche\\lib\\site-packages\\julia\\core.py:555\u001b[0m, in \u001b[0;36mJulia._call\u001b[1;34m(self, src)\u001b[0m\n\u001b[0;32m    553\u001b[0m \u001b[39m# logger.debug(\"_call(%s)\", src)\u001b[39;00m\n\u001b[0;32m    554\u001b[0m ans \u001b[39m=\u001b[39m \u001b[39mself\u001b[39m\u001b[39m.\u001b[39mapi\u001b[39m.\u001b[39mjl_eval_string(src\u001b[39m.\u001b[39mencode(\u001b[39m'\u001b[39m\u001b[39mutf-8\u001b[39m\u001b[39m'\u001b[39m))\n\u001b[1;32m--> 555\u001b[0m \u001b[39mself\u001b[39;49m\u001b[39m.\u001b[39;49mcheck_exception(src)\n\u001b[0;32m    557\u001b[0m \u001b[39mreturn\u001b[39;00m ans\n",
      "\u001b[1;31mKeyboardInterrupt\u001b[0m: "
     ]
    }
   ],
   "source": [
    "from src.ddvfa import DDVFAStrategy\n",
    "\n",
    "# Create the Strategy Instance\n",
    "cl_strategy = DDVFAStrategy(projectdir())\n",
    "\n",
    "# Training Loop\n",
    "print('Starting experiment...')\n",
    "\n",
    "results = []\n",
    "train_results = []\n",
    "for exp_id, experience in enumerate(benchmark.train_stream):\n",
    "    print(\"Start of experience \", experience.current_experience)\n",
    "\n",
    "    train_results.append(cl_strategy.train(experience))\n",
    "    print('Training completed')\n",
    "\n",
    "    print('Computing accuracy on the current test set')\n",
    "    results.append(cl_strategy.eval(benchmark.test_stream[exp_id]))\n",
    "    # results.append(cl_strategy.eval(scenario.test_stream))\n"
   ]
  },
  {
   "cell_type": "code",
   "execution_count": 4,
   "metadata": {},
   "outputs": [
    {
     "name": "stdout",
     "output_type": "stream",
     "text": [
      "[0.0, 1.0, 0.50390625] [0.0, 1.0, 1.0]\n"
     ]
    }
   ],
   "source": [
    "print(results, train_results)"
   ]
  },
  {
   "cell_type": "code",
   "execution_count": null,
   "metadata": {},
   "outputs": [
    {
     "name": "stdout",
     "output_type": "stream",
     "text": [
      "12080\n"
     ]
    },
    {
     "name": "stderr",
     "output_type": "stream",
     "text": [
      "  0%|          | 0/48 [00:00<?, ?it/s]"
     ]
    },
    {
     "name": "stdout",
     "output_type": "stream",
     "text": [
      "> \u001b[1;32mc:\\users\\sasha\\appdata\\local\\temp\\ipykernel_27684\\4086978925.py\u001b[0m(14)\u001b[0;36m<module>\u001b[1;34m()\u001b[0m\n",
      "\n",
      "tensor([[[0.0013, 0.0014, 0.0012,  ..., 0.0039, 0.0028, 0.0009]],\n",
      "\n",
      "        [[0.0007, 0.0006, 0.0003,  ..., 0.0016, 0.0024, 0.0012]],\n",
      "\n",
      "        [[0.0015, 0.0022, 0.0027,  ..., 0.0011, 0.0007, 0.0004]],\n",
      "\n",
      "        ...,\n",
      "\n",
      "        [[0.0017, 0.0016, 0.0006,  ..., 0.0015, 0.0004, 0.0005]],\n",
      "\n",
      "        [[0.0006, 0.0003, 0.0004,  ..., 0.0002, 0.0002, 0.0004]],\n",
      "\n",
      "        [[0.0007, 0.0010, 0.0031,  ..., 0.0038, 0.0035, 0.0028]]])\n",
      "torch.Size([256, 1, 49])\n",
      "torch.Size([256, 1, 49])\n"
     ]
    },
    {
     "name": "stderr",
     "output_type": "stream",
     "text": [
      "  0%|          | 0/48 [00:17<?, ?it/s]\n"
     ]
    }
   ],
   "source": [
    "# from torch.utils.data import DataLoader\n",
    "# from tqdm import tqdm\n",
    "# import ipdb\n",
    "# # ipdb.set_trace()\n",
    "# for exp_id, experience in enumerate(benchmark.train_stream):\n",
    "#     train_dataset = experience.dataset\n",
    "#     train_data_loader = DataLoader(\n",
    "#         dataset=train_dataset,\n",
    "#         pin_memory=True,\n",
    "#         # batch_size=90,\n",
    "#         batch_size=256,\n",
    "#     )\n",
    "#     print(experience.dataset.__len__())\n",
    "#     for mb in tqdm(train_data_loader):\n",
    "#         data, labels, tasks = mb\n",
    "#         ipdb.set_trace()\n",
    "#         # jl.features = self.ext_features(data)\n",
    "#         # jl.features = data.numpy().transpose()\n",
    "#         # jl.labels = labels.numpy()\n",
    "#         # # ipdb.set_trace()\n",
    "#         # jl.eval(\"train!(art, features, y=labels)\")"
   ]
  },
  {
   "cell_type": "code",
   "execution_count": 6,
   "metadata": {},
   "outputs": [
    {
     "data": {
      "text/plain": [
       "torch.Size([1, 49])"
      ]
     },
     "execution_count": 6,
     "metadata": {},
     "output_type": "execute_result"
    }
   ],
   "source": [
    "benchmark.train_stream.__getitem__(0).dataset[0][0].shape"
   ]
  },
  {
   "cell_type": "code",
   "execution_count": 5,
   "metadata": {},
   "outputs": [
    {
     "data": {
      "text/plain": [
       "[8, 5]"
      ]
     },
     "execution_count": 5,
     "metadata": {},
     "output_type": "execute_result"
    }
   ],
   "source": [
    "# benchmark.test_stream[1].classes_in_this_experience\n",
    "# benchmark.train_stream[1].classes_in_this_experience"
   ]
  },
  {
   "cell_type": "code",
   "execution_count": 7,
   "metadata": {},
   "outputs": [
    {
     "name": "stdout",
     "output_type": "stream",
     "text": [
      "5602\n",
      "(5602,)\n",
      "[1 2 3 ... 2 3 2]\n"
     ]
    }
   ],
   "source": [
    "from julia import Main as jl\n",
    "print(jl.eval(\"AdaptiveResonance.get_n_weights(art)\"))\n",
    "print(jl.eval(\"size(art.F2)\"))\n",
    "print(jl.eval(\"art.labels\"))"
   ]
  }
 ],
 "metadata": {
  "kernelspec": {
   "display_name": "avalanche",
   "language": "python",
   "name": "python3"
  },
  "language_info": {
   "codemirror_mode": {
    "name": "ipython",
    "version": 3
   },
   "file_extension": ".py",
   "mimetype": "text/x-python",
   "name": "python",
   "nbconvert_exporter": "python",
   "pygments_lexer": "ipython3",
   "version": "3.9.16"
  },
  "orig_nbformat": 4
 },
 "nbformat": 4,
 "nbformat_minor": 2
}

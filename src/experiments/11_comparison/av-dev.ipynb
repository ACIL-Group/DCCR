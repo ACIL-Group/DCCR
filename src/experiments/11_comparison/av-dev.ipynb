{
 "cells": [
  {
   "cell_type": "code",
   "execution_count": 1,
   "metadata": {},
   "outputs": [],
   "source": [
    "import julia\n",
    "julia.install()\n",
    "\n",
    "from pathlib import Path\n",
    "\n",
    "# # Point to the top of the project relative to this script\n",
    "def projectdir(*args):\n",
    "    return str(Path.cwd().joinpath(\"..\", \"..\", \"..\", *args).resolve())\n",
    "\n",
    "def print_allocated_memory():\n",
    "   print(\"{:.2f} GB\".format(torch.cuda.memory_allocated() / 1024 ** 3))"
   ]
  },
  {
   "cell_type": "code",
   "execution_count": 3,
   "metadata": {},
   "outputs": [],
   "source": [
    "from src.smnistp import SplitMNISTPreprocessed\n",
    "\n",
    "benchmark = SplitMNISTPreprocessed(\n",
    "    n_experiences=5,\n",
    ")"
   ]
  },
  {
   "cell_type": "code",
   "execution_count": 4,
   "metadata": {},
   "outputs": [
    {
     "name": "stdout",
     "output_type": "stream",
     "text": [
      "Starting experiment...\n",
      "Start of experience  0\n",
      "12700\n"
     ]
    },
    {
     "name": "stderr",
     "output_type": "stream",
     "text": [
      "  0%|          | 0/50 [00:03<?, ?it/s]\n"
     ]
    },
    {
     "ename": "TypeError",
     "evalue": "'float' object is not iterable",
     "output_type": "error",
     "traceback": [
      "\u001b[1;31m---------------------------------------------------------------------------\u001b[0m",
      "\u001b[1;31mTypeError\u001b[0m                                 Traceback (most recent call last)",
      "Cell \u001b[1;32mIn[4], line 25\u001b[0m\n\u001b[0;32m     22\u001b[0m \u001b[39mfor\u001b[39;00m exp_id, experience \u001b[39min\u001b[39;00m \u001b[39menumerate\u001b[39m(benchmark\u001b[39m.\u001b[39mtrain_stream):\n\u001b[0;32m     23\u001b[0m     \u001b[39mprint\u001b[39m(\u001b[39m\"\u001b[39m\u001b[39mStart of experience \u001b[39m\u001b[39m\"\u001b[39m, experience\u001b[39m.\u001b[39mcurrent_experience)\n\u001b[1;32m---> 25\u001b[0m     cl_strategy\u001b[39m.\u001b[39;49mtrain(experience)\n\u001b[0;32m     26\u001b[0m     \u001b[39mprint\u001b[39m(\u001b[39m'\u001b[39m\u001b[39mTraining completed\u001b[39m\u001b[39m'\u001b[39m)\n\u001b[0;32m     28\u001b[0m     \u001b[39mprint\u001b[39m(\u001b[39m'\u001b[39m\u001b[39mComputing accuracy on the current test set\u001b[39m\u001b[39m'\u001b[39m)\n",
      "File \u001b[1;32mc:\\Users\\Sasha\\Repos\\github\\DCCR\\src\\experiments\\11_comparison\\src\\ddvfa.py:101\u001b[0m, in \u001b[0;36mDDVFAStrategy.train\u001b[1;34m(self, experience)\u001b[0m\n\u001b[0;32m     99\u001b[0m end_time \u001b[39m=\u001b[39m time\u001b[39m.\u001b[39mtime()\n\u001b[0;32m    100\u001b[0m jl_eval \u001b[39m=\u001b[39m end_time \u001b[39m-\u001b[39m start_time\n\u001b[1;32m--> 101\u001b[0m pbar\u001b[39m.\u001b[39;49mset_postfix(jl_eval)\n",
      "File \u001b[1;32mc:\\Users\\Sasha\\Anaconda3\\envs\\avalanche\\lib\\site-packages\\tqdm\\std.py:1429\u001b[0m, in \u001b[0;36mtqdm.set_postfix\u001b[1;34m(self, ordered_dict, refresh, **kwargs)\u001b[0m\n\u001b[0;32m   1417\u001b[0m \u001b[39m\u001b[39m\u001b[39m\"\"\"\u001b[39;00m\n\u001b[0;32m   1418\u001b[0m \u001b[39mSet/modify postfix (additional stats)\u001b[39;00m\n\u001b[0;32m   1419\u001b[0m \u001b[39mwith automatic formatting based on datatype.\u001b[39;00m\n\u001b[1;32m   (...)\u001b[0m\n\u001b[0;32m   1426\u001b[0m \u001b[39mkwargs  : dict, optional\u001b[39;00m\n\u001b[0;32m   1427\u001b[0m \u001b[39m\"\"\"\u001b[39;00m\n\u001b[0;32m   1428\u001b[0m \u001b[39m# Sort in alphabetical order to be more deterministic\u001b[39;00m\n\u001b[1;32m-> 1429\u001b[0m postfix \u001b[39m=\u001b[39m OrderedDict([] \u001b[39mif\u001b[39;49;00m ordered_dict \u001b[39mis\u001b[39;49;00m \u001b[39mNone\u001b[39;49;00m \u001b[39melse\u001b[39;49;00m ordered_dict)\n\u001b[0;32m   1430\u001b[0m \u001b[39mfor\u001b[39;00m key \u001b[39min\u001b[39;00m \u001b[39msorted\u001b[39m(kwargs\u001b[39m.\u001b[39mkeys()):\n\u001b[0;32m   1431\u001b[0m     postfix[key] \u001b[39m=\u001b[39m kwargs[key]\n",
      "\u001b[1;31mTypeError\u001b[0m: 'float' object is not iterable"
     ]
    }
   ],
   "source": [
    "# from avalanche.benchmarks import SplitMNIST\n",
    "# from avalanche.benchmarks.classic import SplitCIFAR10\n",
    "\n",
    "# Benchmark creation\n",
    "# benchmark = SplitMNIST(\n",
    "#     n_experiences=5,\n",
    "#     # n_experiences=2,\n",
    "#     # n_experiences=10,\n",
    "#     # train_transform=trans,\n",
    "#     # eval_transform=trans,\n",
    "# )\n",
    "# benchmark = SplitCIFAR10(n_experiences=5, return_task_id=True)\n",
    "from src.ddvfa import DDVFAStrategy\n",
    "\n",
    "# Create the Strategy Instance\n",
    "cl_strategy = DDVFAStrategy(projectdir())\n",
    "\n",
    "# Training Loop\n",
    "print('Starting experiment...')\n",
    "\n",
    "results = []\n",
    "for exp_id, experience in enumerate(benchmark.train_stream):\n",
    "    print(\"Start of experience \", experience.current_experience)\n",
    "\n",
    "    cl_strategy.train(experience)\n",
    "    print('Training completed')\n",
    "\n",
    "    print('Computing accuracy on the current test set')\n",
    "    results.append(cl_strategy.eval(benchmark.test_stream[exp_id]))\n",
    "    # results.append(cl_strategy.eval(scenario.test_stream))\n"
   ]
  },
  {
   "cell_type": "code",
   "execution_count": null,
   "metadata": {},
   "outputs": [
    {
     "name": "stdout",
     "output_type": "stream",
     "text": [
      "12080\n"
     ]
    },
    {
     "name": "stderr",
     "output_type": "stream",
     "text": [
      "  0%|          | 0/48 [00:00<?, ?it/s]"
     ]
    },
    {
     "name": "stdout",
     "output_type": "stream",
     "text": [
      "> \u001b[1;32mc:\\users\\sasha\\appdata\\local\\temp\\ipykernel_27684\\4086978925.py\u001b[0m(14)\u001b[0;36m<module>\u001b[1;34m()\u001b[0m\n",
      "\n",
      "tensor([[[0.0013, 0.0014, 0.0012,  ..., 0.0039, 0.0028, 0.0009]],\n",
      "\n",
      "        [[0.0007, 0.0006, 0.0003,  ..., 0.0016, 0.0024, 0.0012]],\n",
      "\n",
      "        [[0.0015, 0.0022, 0.0027,  ..., 0.0011, 0.0007, 0.0004]],\n",
      "\n",
      "        ...,\n",
      "\n",
      "        [[0.0017, 0.0016, 0.0006,  ..., 0.0015, 0.0004, 0.0005]],\n",
      "\n",
      "        [[0.0006, 0.0003, 0.0004,  ..., 0.0002, 0.0002, 0.0004]],\n",
      "\n",
      "        [[0.0007, 0.0010, 0.0031,  ..., 0.0038, 0.0035, 0.0028]]])\n",
      "torch.Size([256, 1, 49])\n",
      "torch.Size([256, 1, 49])\n"
     ]
    },
    {
     "name": "stderr",
     "output_type": "stream",
     "text": [
      "  0%|          | 0/48 [00:17<?, ?it/s]\n"
     ]
    }
   ],
   "source": [
    "from torch.utils.data import DataLoader\n",
    "from tqdm import tqdm\n",
    "import ipdb\n",
    "# ipdb.set_trace()\n",
    "for exp_id, experience in enumerate(benchmark.train_stream):\n",
    "    train_dataset = experience.dataset\n",
    "    train_data_loader = DataLoader(\n",
    "        dataset=train_dataset,\n",
    "        pin_memory=True,\n",
    "        # batch_size=90,\n",
    "        batch_size=256,\n",
    "    )\n",
    "    print(experience.dataset.__len__())\n",
    "    for mb in tqdm(train_data_loader):\n",
    "        data, labels, tasks = mb\n",
    "        ipdb.set_trace()\n",
    "        # jl.features = self.ext_features(data)\n",
    "        # jl.features = data.numpy().transpose()\n",
    "        # jl.labels = labels.numpy()\n",
    "        # # ipdb.set_trace()\n",
    "        # jl.eval(\"train!(art, features, y=labels)\")"
   ]
  },
  {
   "cell_type": "code",
   "execution_count": null,
   "metadata": {},
   "outputs": [
    {
     "data": {
      "text/plain": [
       "torch.Size([1, 49])"
      ]
     },
     "execution_count": 7,
     "metadata": {},
     "output_type": "execute_result"
    }
   ],
   "source": [
    "benchmark.train_stream.__getitem__(0).dataset[0][0].shape"
   ]
  },
  {
   "cell_type": "code",
   "execution_count": null,
   "metadata": {},
   "outputs": [
    {
     "data": {
      "text/plain": [
       "[1, 4]"
      ]
     },
     "execution_count": 6,
     "metadata": {},
     "output_type": "execute_result"
    }
   ],
   "source": [
    "# benchmark.test_stream[1].classes_in_this_experience\n",
    "# benchmark.train_stream[1].classes_in_this_experience"
   ]
  },
  {
   "cell_type": "code",
   "execution_count": null,
   "metadata": {},
   "outputs": [
    {
     "data": {
      "text/plain": [
       "[0.9266000859106529, 0.0]"
      ]
     },
     "execution_count": 4,
     "metadata": {},
     "output_type": "execute_result"
    }
   ],
   "source": [
    "results"
   ]
  },
  {
   "cell_type": "code",
   "execution_count": null,
   "metadata": {},
   "outputs": [
    {
     "name": "stdout",
     "output_type": "stream",
     "text": [
      "12862\n",
      "(12862,)\n"
     ]
    }
   ],
   "source": [
    "print(jl.eval(\"AdaptiveResonance.get_n_weights(art)\"))\n",
    "print(jl.eval(\"size(art.F2)\"))"
   ]
  }
 ],
 "metadata": {
  "kernelspec": {
   "display_name": "avalanche",
   "language": "python",
   "name": "python3"
  },
  "language_info": {
   "codemirror_mode": {
    "name": "ipython",
    "version": 3
   },
   "file_extension": ".py",
   "mimetype": "text/x-python",
   "name": "python",
   "nbconvert_exporter": "python",
   "pygments_lexer": "ipython3",
   "version": "3.9.16"
  },
  "orig_nbformat": 4
 },
 "nbformat": 4,
 "nbformat_minor": 2
}
